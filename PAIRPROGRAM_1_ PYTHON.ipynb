{
 "cells": [
  {
   "cell_type": "code",
   "execution_count": 29,
   "metadata": {},
   "outputs": [
    {
     "name": "stdout",
     "output_type": "stream",
     "text": [
      "1\n",
      "2\n",
      "3\n",
      "False\n",
      "False\n",
      "False\n",
      "True\n",
      "1.2\n",
      "2.1\n",
      "3.3\n",
      "-0.9000000000000001\n",
      "1.2\n",
      "0.0 1\n"
     ]
    }
   ],
   "source": [
    "#cread variables numéricas de tipo integer entero, llamadas de la siguiente forma:\n",
    "numero1 = 1\n",
    "numero2 = 2\n",
    "numero3 = 3\n",
    "print(numero1)\n",
    "print(numero2)\n",
    "print(numero3)\n",
    "\n",
    "#Utilizando los operadores lógicos:\n",
    "#En vuestro caso, es el numero1 mayor que el numero2\n",
    "print (numero1 > numero2)\n",
    "#Es el numero1 menor que el numero2 pero mayor que el numero3\n",
    "print (numero2 > numero1 > numero3)\n",
    "#Es el numero3 igual que el numero2\n",
    "print (numero3 == numero2)\n",
    "#Es el numero2 distinto que el numero1\n",
    "print (numero2 != numero1)\n",
    "\n",
    "#Cread dos variables numéricas de tipo float (decimal) con dos decimales, llamdas de la siguiente forma:\n",
    "altura1 = 1.2\n",
    "altura2 = 2.1\n",
    "print(altura1)\n",
    "print(altura2)\n",
    "\n",
    "#Utilizando los operadores matemáticos aprendidos en la lección:\n",
    "#Cuál es la suma de las dos alturas\n",
    "print(altura1 + altura2)\n",
    "#Cuál es la diferencia entre las alturas\n",
    "print(altura1 - altura2)\n",
    "#Cuál es el resto de la división de las dos alturas\n",
    "print(altura1 % altura2)\n",
    "#Cuál es resultado de la división de las dos alturas, redondead el resultado a un decimal.\n",
    "print(altura1 //altura2,1)\n",
    "\n"
   ]
  },
  {
   "cell_type": "code",
   "execution_count": 46,
   "metadata": {},
   "outputs": [
    {
     "name": "stdout",
     "output_type": "stream",
     "text": [
      "¿Cual es su nombre y apellidos?: \n",
      "sila rivas\n",
      "SILA RIVAS\n",
      "sila rivas\n",
      "Sila Rivas\n",
      "Sila rivas\n"
     ]
    }
   ],
   "source": [
    "#Escribid un programa usando la función input() que le pregunte al usuario su nombre y apellidos. \n",
    "input (\"¿Cual es su nombre y apellidos?: \")\n",
    "print (\"¿Cual es su nombre y apellidos?: \")\n",
    "print (nombre)\n",
    "\n",
    "#Una vez que tengamos el nombre del usuario:\n",
    "#Printead su nombre y apellidos todo en mayúsculas\n",
    "print (nombre.upper())\n",
    "#Printead su nombre y apellidos todo en minúsculas\n",
    "print (nombre.lower())\n",
    "#Printead su nombre y apellidos con la primera letra del nombre y los apellidos en mayúscula y el resto en minúscula.\n",
    "print (nombre.title())\n",
    "#Printeas solo la primera letra del nombre en mayúscula.\n",
    "print (nombre.capitalize())\n"
   ]
  },
  {
   "cell_type": "code",
   "execution_count": 58,
   "metadata": {},
   "outputs": [
    {
     "name": "stdout",
     "output_type": "stream",
     "text": [
      "soleado\n",
      "a\n",
      "A\n"
     ]
    }
   ],
   "source": [
    "#Escribid un programa usando la función input() que:\n",
    "#Le pregunte al usuario por una frase, almacenad este resultado en una variable.\n",
    "variable1 = input (\"¿Qué tiempo hace hoy?: \")\n",
    "print (variable1)\n",
    "\n",
    "#Le pregunte al usuario por una vocal, almacenad este resultado en una variable.\n",
    "variable2 = input (\"Dime una vocal \")\n",
    "print (variable2)\n",
    "\n",
    "#Printead la misma frase pero con la vocal introducida en mayúsulas.\n",
    "variable3 = input (\"Dime una vocal \")\n",
    "print (variable3.upper())"
   ]
  },
  {
   "cell_type": "code",
   "execution_count": 16,
   "metadata": {},
   "outputs": [
    {
     "name": "stdout",
     "output_type": "stream",
     "text": [
      "['huevos', 'harina', 'leche']\n",
      "huevos\n",
      "harina\n",
      "leche\n"
     ]
    }
   ],
   "source": [
    "#Escribid un programa usando la función input() que:\n",
    "#Le pregunte al usuario por la lista de la compra, separando cada elemento por comas.\n",
    "lista = input (\"La lista de la compra\")\n",
    "lista_separada = lista. split()\n",
    "print (lista_separada)\n",
    "#Devolved la lista de compra donde veamos cada elemento en una línea.\n",
    "lista_en_lineas = \"\\n\".join (lista_separada)\n",
    "print (lista_en_lineas)"
   ]
  }
 ],
 "metadata": {
  "kernelspec": {
   "display_name": "Python 3",
   "language": "python",
   "name": "python3"
  },
  "language_info": {
   "codemirror_mode": {
    "name": "ipython",
    "version": 3
   },
   "file_extension": ".py",
   "mimetype": "text/x-python",
   "name": "python",
   "nbconvert_exporter": "python",
   "pygments_lexer": "ipython3",
   "version": "3.9.7"
  },
  "orig_nbformat": 4,
  "vscode": {
   "interpreter": {
    "hash": "c051a96af7564dc2e954afa8bbe1303cffa3b89daf2be210fabb8659fb5e9a61"
   }
  }
 },
 "nbformat": 4,
 "nbformat_minor": 2
}
