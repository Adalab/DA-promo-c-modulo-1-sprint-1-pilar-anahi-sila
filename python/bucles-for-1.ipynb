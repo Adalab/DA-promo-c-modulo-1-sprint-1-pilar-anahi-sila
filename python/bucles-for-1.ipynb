{
 "cells": [
  {
   "cell_type": "code",
   "execution_count": null,
   "metadata": {},
   "outputs": [],
   "source": [
    "#En este ejercicios de pair programming podremos en práctica los bucles for a través de múltiples ejercicios:\n",
    "#1)Escribid un programa que pregunte al usuario una cantidad a invertir, el interés anual y el número de años, \n",
    "# y muestre por pantalla el capital obtenido en la inversión cada año que dura la inversión."
   ]
  },
  {
   "cell_type": "code",
   "execution_count": 5,
   "metadata": {},
   "outputs": [
    {
     "name": "stdout",
     "output_type": "stream",
     "text": [
      "['h', 'o', 'l', 'a', ' ', 'c', 'o', 'm', 'o', ' ', 'e', 's', 't', 'a', 's']\n",
      "e\n"
     ]
    },
    {
     "data": {
      "text/plain": [
       "1"
      ]
     },
     "execution_count": 5,
     "metadata": {},
     "output_type": "execute_result"
    }
   ],
   "source": [
    "#2)Escribid un programa en el que se pregunte al usuario por una frase y una letra, y muestre por\n",
    "# pantalla el número de veces que aparece la letra en la frase.\n",
    "\n",
    "frase =  list (input('Dime una frase').lower())\n",
    "letra = input ('Dime una letra')\n",
    "num_letra = 0\n",
    "\n",
    "for let in frase:\n",
    "    if let == letra.lower():\n",
    "        num_letra +=1\n",
    "\n",
    "print(frase)\n",
    "print (letra)\n",
    "num_letra\n",
    "\n",
    "# agregar porque hacemos el .lower fuera\n",
    "\n",
    "\n"
   ]
  },
  {
   "cell_type": "code",
   "execution_count": 22,
   "metadata": {},
   "outputs": [
    {
     "name": "stdout",
     "output_type": "stream",
     "text": [
      "0 * 5 = 0\n",
      "1 * 5 = 5\n",
      "2 * 5 = 10\n",
      "3 * 5 = 15\n",
      "4 * 5 = 20\n",
      "5 * 5 = 25\n",
      "6 * 5 = 30\n",
      "7 * 5 = 35\n",
      "8 * 5 = 40\n",
      "9 * 5 = 45\n",
      "10 * 5 = 50\n"
     ]
    }
   ],
   "source": [
    "#3)Escribid un programa que nos devuelva la tabla de multiplicar de un número especificado en una función input\n",
    "\n",
    "numero = int (input ( 'Dime un numero'))\n",
    "\n",
    "for num in range(11):\n",
    "\n",
    "    print (f'{num} * {numero} = {num * numero}' )\n"
   ]
  },
  {
   "cell_type": "code",
   "execution_count": null,
   "metadata": {},
   "outputs": [],
   "source": [
    "#4)Dada la siguinte lista de números:\n",
    "#numbers = [12, 75, 150, 180, 145, 525, 50]\n",
    "#Escribid un programa que muestre sólo los números de una lista que cumplan las siguientes condiciones\n",
    "#El número debe ser divisible entre cinco\n",
    "#Si el número es mayor que 150, se salta y se pasa al siguiente número\n",
    "#Si el número es mayor que 500, entonces detenga el bucle\n",
    "\n",
    "numbers = [12, 75, 150, 180, 145, 525, 50]\n",
    " \n",
    "for num in numbers:# hay que empezar primero por las condiciones  de mayor o igual y luego poner la condicion de la division.\n",
    "    if num <150\n",
    "\n",
    "    if num % 5 == 0:\n",
    "while num < 150:\n",
    "    \n",
    "        \n",
    "    continue\n",
    "\n"
   ]
  },
  {
   "cell_type": "code",
   "execution_count": null,
   "metadata": {},
   "outputs": [],
   "source": [
    "\n",
    "# 4)Dada la siguinte lista de números:\n",
    "numbers = [12, 75, 150, 180, 145, 525, 50]\n",
    "Escribid un programa que muestre sólo los números de una lista que cumplan las siguientes condiciones\n",
    "El número debe ser divisible entre cinco\n",
    "Si el número es mayor que 150, se salta y se pasa al siguiente número\n",
    "Si el número es mayor que 500, entonces detenga el bucle\n",
    "\n"
   ]
  },
  {
   "cell_type": "code",
   "execution_count": null,
   "metadata": {},
   "outputs": [],
   "source": [
    "# 5. Dada la siguiente lista:\n",
    "# Imprimir la lista en orden inverso\n",
    "list1 = [10, 20, 30, 40, 50]\n",
    "longitud1 = len(list1) - 1\n",
    "list2 = []\n",
    "longitud2 = 0\n",
    "while longitud1 >= 0:\n",
    "    list2.insert(longitud2, list1[longitud1])\n",
    "    longitud1 -= 1\n",
    "    longitud2 += 1\n",
    "print(list2)"
   ]
  },
  {
   "cell_type": "code",
   "execution_count": null,
   "metadata": {},
   "outputs": [],
   "source": [
    "# 6. Dado el siguiente código\n",
    "# for i in ['1','2','3']:\n",
    "    # print (i**2)\n",
    "# Usando un try ... except, cread un programa para evitar que nos de un error el código anterior. \n",
    "# En su lugar, si se encuentra un error, \n",
    "# deberéis poner el código necesario para que no nos devuelva error. \n",
    "lista_seis = ['1','2','3']\n",
    "for i in lista_seis:\n",
    "    try:\n",
    "        print(i**2)\n",
    "    except:\n",
    "        print(int(i)**2)"
   ]
  }
 ],
 "metadata": {
  "kernelspec": {
   "display_name": "Python 3.10.5 64-bit",
   "language": "python",
   "name": "python3"
  },
  "language_info": {
   "codemirror_mode": {
    "name": "ipython",
    "version": 3
   },
   "file_extension": ".py",
   "mimetype": "text/x-python",
   "name": "python",
   "nbconvert_exporter": "python",
   "pygments_lexer": "ipython3",
   "version": "3.10.5"
  },
  "orig_nbformat": 4,
  "vscode": {
   "interpreter": {
    "hash": "8c8a315b11d35e0bc8e73c6f82343947dc27883c3d37ade79ad89feb1fc5ee64"
   }
  }
 },
 "nbformat": 4,
 "nbformat_minor": 2
}
