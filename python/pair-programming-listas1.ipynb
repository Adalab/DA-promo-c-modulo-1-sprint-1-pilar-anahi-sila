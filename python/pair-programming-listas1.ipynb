{
 "cells": [
  {
   "cell_type": "markdown",
   "metadata": {},
   "source": [
    "# LISTAS 1 #\n",
    "                                "
   ]
  },
  {
   "cell_type": "code",
   "execution_count": 1,
   "metadata": {},
   "outputs": [
    {
     "name": "stdout",
     "output_type": "stream",
     "text": [
      "pepe \n",
      "juan\n",
      "ana\n"
     ]
    }
   ],
   "source": [
    "#1)Usando la función input, cread un programa que pregunte al usuario por el nombre de tres amig@s.#\n",
    "\n",
    "amigo1 = input(\"dime el nombre del amigo 1:\")\n",
    "print (amigo1)\n",
    "\n",
    "amigo2 = input (\"dime el nombre del amigo 2:\")\n",
    "print (amigo2)\n",
    "\n",
    "amigo3 = input (\"dime el nombre del amigo 3:\")\n",
    "print (amigo3)\n"
   ]
  },
  {
   "cell_type": "code",
   "execution_count": 19,
   "metadata": {},
   "outputs": [],
   "source": [
    "            #Otra forma de obtener los nombres en un solo input seria:\n",
    "            #amigos = input ('Dime el nombre de tres amigos')\n",
    "            "
   ]
  },
  {
   "cell_type": "code",
   "execution_count": 35,
   "metadata": {},
   "outputs": [
    {
     "name": "stdout",
     "output_type": "stream",
     "text": [
      "['pepe', 'juan', 'lorena']\n"
     ]
    }
   ],
   "source": [
    "#2)Almacenad los resultados del paso anterior en una lista.\n",
    "# Pista tendréis que usar métodos de los strings que aprendimos en la lección anterior.\n",
    "\n",
    "lista_amigos = [amigo1,amigo2,amigo3]\n",
    "print (lista_amigos)"
   ]
  },
  {
   "cell_type": "code",
   "execution_count": 23,
   "metadata": {},
   "outputs": [],
   "source": [
    "            #Otra forma de obtener la lista de tres amigos seria:\n",
    "\n",
    "            #lista_amigos2 = amigos.split ()\n",
    "            #lista_amigos2"
   ]
  },
  {
   "cell_type": "code",
   "execution_count": 28,
   "metadata": {},
   "outputs": [
    {
     "data": {
      "text/plain": [
       "['1.45', '1.67', '1.57']"
      ]
     },
     "execution_count": 28,
     "metadata": {},
     "output_type": "execute_result"
    }
   ],
   "source": [
    "#3)Usando la función input, cread un programa que ahora le pregunte al usuario por las alturas de sus amig@s. \n",
    "# Y almacenar los resultados en una lista.( 1.45/ 1.67/ 1.57 ).\n",
    "\n",
    "lista_alturas = input(\"dime la alturas de tus amigos:\").split ()\n",
    "lista_alturas"
   ]
  },
  {
   "cell_type": "code",
   "execution_count": 30,
   "metadata": {},
   "outputs": [
    {
     "data": {
      "text/plain": [
       "[1.45, 1.67, 1.57]"
      ]
     },
     "execution_count": 30,
     "metadata": {},
     "output_type": "execute_result"
    }
   ],
   "source": [
    "#3.1) Nos interesa que las alturas estén en tipo float para eso, ejecutad el siguiente código.\n",
    "# No es necesario que lo entendáis, es un concepto más avanzado que aprenderemos en las siguientes lecciones.\n",
    "\n",
    "lista_alturas = [float(i) for i in lista_alturas]\n",
    "lista_alturas\n"
   ]
  },
  {
   "cell_type": "code",
   "execution_count": 40,
   "metadata": {},
   "outputs": [
    {
     "name": "stdout",
     "output_type": "stream",
     "text": [
      "[1.67, 1.57, 1.45]\n",
      "['pepe', 'lorena', 'juan']\n"
     ]
    }
   ],
   "source": [
    "#4)Ordenad las dos listas de mayor a menor. ¿Lo podréis hacer para la lista de nombres?.\n",
    "\n",
    "lista_ordenada_alturas = lista_alturas\n",
    "lista_ordenada_alturas.sort(reverse = True)\n",
    "print (lista_ordenada_alturas)\n",
    "\n",
    "lista_ordenada_nombres = lista_amigos\n",
    "lista_ordenada_nombres.sort(reverse = True)\n",
    "print(lista_ordenada_nombres)\n"
   ]
  },
  {
   "cell_type": "code",
   "execution_count": 41,
   "metadata": {},
   "outputs": [
    {
     "name": "stdout",
     "output_type": "stream",
     "text": [
      "1.67\n",
      "1.45\n"
     ]
    }
   ],
   "source": [
    "#5)¿Cuál es la altura máxima de todos nuestros amig@os?\n",
    "\n",
    "altura_maxima = max (lista_alturas)\n",
    "print (altura_maxima)\n"
   ]
  },
  {
   "cell_type": "code",
   "execution_count": null,
   "metadata": {},
   "outputs": [],
   "source": [
    "#6)¿Y la mínima?\n",
    "\n",
    "altura_minima = min (lista_alturas)\n",
    "print (altura_minima)"
   ]
  },
  {
   "cell_type": "code",
   "execution_count": 43,
   "metadata": {},
   "outputs": [
    {
     "name": "stdout",
     "output_type": "stream",
     "text": [
      "[[44, 55, 67, 44, 98, 29], [34, 56, 56, 78, 67, 56]]\n"
     ]
    }
   ],
   "source": [
    "#7)Dadas las siguientes listas:\n",
    "\n",
    "lista1 = [44, 55, 67, 44, 98, 29]\n",
    "lista2 = [34, 56, 56, 78, 67, 56]\n",
    "\n",
    "#7.1)Unid las dos listas de forma que consigamos el siguiente output. \n",
    "#lista_lista = [[44, 55, 67, 44, 98, 29], [34, 56, 56, 78, 67, 56]].\n",
    "#Almacenad los resultados en una nueva variable y llamadla lista_lista.\n",
    "\n",
    "lista_lista = [lista1, lista2]\n",
    "print (lista_lista)"
   ]
  },
  {
   "cell_type": "code",
   "execution_count": 45,
   "metadata": {},
   "outputs": [
    {
     "name": "stdout",
     "output_type": "stream",
     "text": [
      "[44, 55, 67, 44, 98, 29, 34, 56, 56, 78, 67, 56]\n"
     ]
    }
   ],
   "source": [
    "#7.2)Unid las dos listas de forma que consigamos el siguiente output. \n",
    "#lista_numeros = [44, 55, 67, 44, 98, 29, 34, 56, 56, 78, 67, 56].\n",
    "# Almacenad los resultados en una nueva variable y llamadla lista_numeros.\n",
    "\n",
    "lista_numeros = lista1 + lista2\n",
    "print (lista_numeros)\n"
   ]
  },
  {
   "cell_type": "code",
   "execution_count": 46,
   "metadata": {},
   "outputs": [
    {
     "name": "stdout",
     "output_type": "stream",
     "text": [
      "0\n"
     ]
    }
   ],
   "source": [
    "#8)De la lista lista_lista, ¿cuántas veces aparece el número 67?\n",
    "\n",
    "print(lista_lista.count(67))\n"
   ]
  },
  {
   "cell_type": "code",
   "execution_count": 47,
   "metadata": {},
   "outputs": [
    {
     "name": "stdout",
     "output_type": "stream",
     "text": [
      "2\n"
     ]
    }
   ],
   "source": [
    "#8.1)¿y en la lista lista_numeros?\n",
    "\n",
    "print(lista_numeros.count(67))"
   ]
  },
  {
   "cell_type": "code",
   "execution_count": null,
   "metadata": {},
   "outputs": [],
   "source": [
    "#Justificacion 8, 8.1 :\n",
    "    #En la lista_lista no nos aparece el numero 67 porque al buscarlo encuentra dos bloques de lista y \n",
    "    #no mira lo que hay dentro.\n",
    "    #En la lista_numeros es una lista formada por todos  los numeros por eso es capaz de encontrar el numero 67."
   ]
  },
  {
   "cell_type": "code",
   "execution_count": 49,
   "metadata": {},
   "outputs": [
    {
     "name": "stdout",
     "output_type": "stream",
     "text": [
      "[44, 55, 67, 44, 98, 29, 34, 56, 56, 78, 67, 56]\n"
     ]
    }
   ],
   "source": [
    "#9)Usando la lista_numeros, dadle la vuelta a la lista.\n",
    "\n",
    "lista_numeros_reverse = lista_numeros\n",
    "\n",
    "lista_numeros_reverse.reverse()\n",
    "print(lista_numeros_reverse)\n",
    "\n"
   ]
  }
 ],
 "metadata": {
  "kernelspec": {
   "display_name": "Python 3.8.9 64-bit",
   "language": "python",
   "name": "python3"
  },
  "language_info": {
   "codemirror_mode": {
    "name": "ipython",
    "version": 3
   },
   "file_extension": ".py",
   "mimetype": "text/x-python",
   "name": "python",
   "nbconvert_exporter": "python",
   "pygments_lexer": "ipython3",
   "version": "3.8.9"
  },
  "orig_nbformat": 4,
  "vscode": {
   "interpreter": {
    "hash": "31f2aee4e71d21fbe5cf8b01ff0e069b9275f58929596ceb00d14d90e3e16cd6"
   }
  }
 },
 "nbformat": 4,
 "nbformat_minor": 2
}
