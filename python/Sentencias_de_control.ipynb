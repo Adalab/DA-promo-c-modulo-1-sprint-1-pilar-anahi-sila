{
 "cells": [
  {
   "cell_type": "code",
   "execution_count": 6,
   "metadata": {},
   "outputs": [],
   "source": [
    "#1)En la escuela\n",
    "# donde trabajamos tienen el siguiente sistema de notas:\n",
    "#Below 25 - F\n",
    "# 25 to 45 - E\n",
    "# 45 to 50 - D\n",
    "# 50 to 60 - C\n",
    "# 60 to 80 - B\n",
    "# Above 80 - A\n",
    "#El objetivo de este ejercicio es que le preguntéis al usuario por una nota (numérica) y nosotros le devolvamos la nota con la letra que le corresponde.\n",
    "\n",
    "nota = float(input ('Que nota tienes?'))\n",
    "\n",
    "\n"
   ]
  },
  {
   "cell_type": "code",
   "execution_count": 9,
   "metadata": {},
   "outputs": [
    {
     "name": "stdout",
     "output_type": "stream",
     "text": [
      "E\n"
     ]
    }
   ],
   "source": [
    "\n",
    "if nota < 25 :\n",
    "    print ('F')\n",
    "elif 45 > nota >= 25:\n",
    "    print ('E')\n",
    "elif 50 > nota >= 45:\n",
    "    print ('D')\n",
    "elif 60 > nota >= 50:\n",
    "    print ('C')\n",
    "elif 80 > nota >= 60:\n",
    "    print ('B')\n",
    "else :\n",
    "    print ('A')"
   ]
  },
  {
   "cell_type": "code",
   "execution_count": 11,
   "metadata": {},
   "outputs": [
    {
     "name": "stdout",
     "output_type": "stream",
     "text": [
      "72  es el mas viejo\n",
      "35  es el mas joven\n"
     ]
    }
   ],
   "source": [
    "#2)Cread tres inputs donde a cada uno de ellos le preguntéis su edad, el objetivo del ejercicio es determinar quien es el más viejo y el más joven.\n",
    "edad1 = int(input ('Que edad tienes?'))\n",
    "edad2 = int(input ('Que edad tienes?'))\n",
    "edad3 = int(input ('Que edad tienes?'))\n",
    "\n",
    "if edad1 > edad2 and edad1 > edad3:\n",
    "    print (edad1, ' es el mas viejo')\n",
    "elif edad1 < edad2 > edad3:\n",
    "    print (edad2, ' es el mas viejo')\n",
    "else:\n",
    "    print( edad3, ' es el mas viejo')\n",
    "\n",
    "#el mas joven\n",
    "\n",
    "if edad1 < edad2 and edad1 < edad3:\n",
    "    print (edad1, ' es el mas joven')\n",
    "elif edad1 > edad2 < edad3:\n",
    "    print (edad2, ' es el mas joven')\n",
    "else:\n",
    "    print( edad3, ' es el mas joven')\n",
    "\n"
   ]
  },
  {
   "cell_type": "code",
   "execution_count": 13,
   "metadata": {},
   "outputs": [
    {
     "name": "stdout",
     "output_type": "stream",
     "text": [
      "Buenos días Anahi\n"
     ]
    }
   ],
   "source": [
    "#3)Escribid un programa que pregunte el nombre del usuario a través de la función input(). Si el nombre es \"Bond\" haced que imprima \"Bienvenido a bordo de 007\". En caso contrario haced que imprima \"Buenos días NOMBRE\". (Reemplace NOMBRE por el nombre del usuario).\n",
    "\n",
    "nombre = input ('Dime tu nombre')\n",
    "\n",
    "if nombre == 'Bond' :\n",
    "    print('Bienvenido a bordo de 007')\n",
    "else:\n",
    "    print ('Buenos días', nombre )"
   ]
  },
  {
   "cell_type": "code",
   "execution_count": 18,
   "metadata": {},
   "outputs": [
    {
     "ename": "IndentationError",
     "evalue": "unexpected indent (3606180408.py, line 18)",
     "output_type": "error",
     "traceback": [
      "\u001b[0;36m  File \u001b[0;32m\"/var/folders/db/hp0l5_js4yv8br5y2tc3frpm0000gn/T/ipykernel_3396/3606180408.py\"\u001b[0;36m, line \u001b[0;32m18\u001b[0m\n\u001b[0;31m    print(tree.keys)\u001b[0m\n\u001b[0m    ^\u001b[0m\n\u001b[0;31mIndentationError\u001b[0m\u001b[0;31m:\u001b[0m unexpected indent\n"
     ]
    }
   ],
   "source": [
    "#4)Escribid un programa que pregunte el nombre del usuario a través de la función input(). Si el nombre es \"Bond\" haced que imprima \"Bienvenido a bordo de 007\". En caso contrario haced que imprima \"Buenos días NOMBRE\". (Reemplace NOMBRE por el nombre del usuario).\n",
    "#arbol es un diccionario que muestra el número de árboles de países por kilómetro cuadrado para países aleatorios con un número considerable de población. Crea una lista llamada \"masarboles\" que contenga el nombre de los países con más de 40.000 árboles por kilómetro cuadrado.\n",
    "tree = {\"Taiwan\": 69593,\n",
    "        \"Japan\": 49894, \n",
    "        \"Russia\": 41396, \n",
    "        \"Canada\": 36388, \n",
    "        \"Bulgaria\": 24987}\n",
    "\n",
    "\n",
    "lista_numero_arboles = tree.values\n",
    "print (lista_numero_arboles)\n",
    "#if tree.values () >= 40000 :\n",
    "\n",
    "\n",
    "#masarboles = []\n",
    "\n",
    "#if lista_arboles >= \n",
    "   # print(tree.keys)\n",
    "    #masarboles.append (tree.keys)\n"
   ]
  },
  {
   "cell_type": "code",
   "execution_count": 6,
   "metadata": {},
   "outputs": [
    {
     "name": "stdout",
     "output_type": "stream",
     "text": [
      "Perteneces al grupo B\n"
     ]
    }
   ],
   "source": [
    "#5)Los alumnos de un curso se han dividido en dos grupos A y B de acuerdo al sexo y el nombre. El grupo A esta formado por las mujeres con un nombre anterior a la M y los hombres con un nombre posterior a la N y el grupo B por el resto. Escribid un programa que pregunte al usuario su nombre y sexo, y muestre por pantalla el grupo que le corresponde.\n",
    "\n",
    "sexo = input ('Eres M (mujer) o H (hombre)?')\n",
    "letra_nombre = input ('Con que letra empieza tu nombre?')\n",
    "\n",
    "if sexo == 'M' and 'a' < letra_nombre < 'l':\n",
    "    print ('Perteneces al grupo A')\n",
    "elif sexo == 'H' and 'o' < letra_nombre < 'z':\n",
    "    print ('Perteneces al grupo A')\n",
    "else: \n",
    "    print ('Perteneces al grupo B')"
   ]
  },
  {
   "cell_type": "code",
   "execution_count": null,
   "metadata": {},
   "outputs": [],
   "source": [
    "\n",
    "Los alumnos de un curso se han dividido en dos grupos A y B de acuerdo al sexo y el nombre. El grupo A esta formado por las mujeres con un nombre anterior a la M y los hombres con un nombre posterior a la N y el grupo B por el resto. Escribid un programa que pregunte al usuario su nombre y sexo, y muestre por pantalla el grupo que le corresponde.\n",
    "Escribid un programa que:\n",
    "Dada la variable z con valor 0, es decir z = 0.\n",
    "Mientras que el valor de z sea menor que 3:\n",
    "Si el valor de z es igual a 0:\n",
    "Printead el valor de z\n",
    "Almancenad el valor en una lista auxiliar\n",
    "Sumadle 1 al valor de z\n",
    "Si el valor de z es igual a 1:\n",
    "Printead el valor de z\n",
    "Almancenad el valor en una lista auxiliar\n",
    "Sumadle 1 al valor de z\n",
    "En caso de que no se cumplan las condiciones anteriores:\n",
    "Printead el valor de z\n",
    "Sumadle 1 al valor de z\n",
    "El objetivo de este ejercicio es añadir elementos a una lista utilizando el bucle while:\n",
    "Cread una lista vacía\n",
    "Cread una variable cuyo valor sea 0\n",
    "Mientras que la longitud de la lista creada en el primer paso sea menor que 4:\n",
    "Apendead el valor de la variable creada en el paso 2\n",
    "Sumad 1 a la variable creada en el paso 2\n",
    "Por último, printead los valores que hemos añadido en la lista vacía (ya no lo estaría)\n",
    "El objetivo de este ejercicio es encontrar la suma de números en una lista usando el bucle while:\n",
    "Cread una variable cuyo valor sea 0, llamadla \"i\"\n",
    "Cread una lista que contenga los siguientes números: 23,45,12,10,25\n",
    "Cread una variable cuyo valor sea 0, llamadla \"suma\"\n",
    "Mientras que el valor de la variable \"i\" sea menor que la longitud de la lista:\n",
    "Sumad elemento a elemento los valores de la lista. Es decir, el primero con el segundo; el resultado de la suma anterior más el tercer número, etc\n",
    "Sumad 1 a la variable \"i\" por cada iteración por el bucle while\n",
    "El resultado esperado es 115.\n",
    "Escribid un programa para una empresa que tiene salas de juegos para todas las edades y quiere calcular de forma automática el precio que debe cobrar a sus clientes por entrar. El programa debe preguntar al usuario la edad del cliente y mostrar el precio de la entrada. Si el cliente es menor de 4 años puede entrar gratis, si tiene entre 4 y 18 años debe pagar 5€ y si es mayor de 18 años, 10€.\n",
    "La pizzería Bella Napoli ofrece pizzas vegetarianas y no vegetarianas a sus clientes. Los ingredientes para cada tipo de pizza aparecen a continuación.\n",
    "Ingredientes vegetarianos: Pimiento y tofu.\n",
    "Ingredientes no vegetarianos: Peperoni, Jamón y Salmón.\n",
    "Escribid un programa que pregunte al usuario si quiere una pizza vegetariana o no, y en función de su respuesta le muestre un menú con los ingredientes disponibles para que elija. Solo se puede eligir un ingrediente además de la mozzarella y el tomate que están en todas la pizzas. Al final se debe mostrar por pantalla si la pizza elegida es vegetariana o no y todos los ingredientes que lleva."
   ]
  }
 ],
 "metadata": {
  "kernelspec": {
   "display_name": "Python 3.9.13 ('base')",
   "language": "python",
   "name": "python3"
  },
  "language_info": {
   "codemirror_mode": {
    "name": "ipython",
    "version": 3
   },
   "file_extension": ".py",
   "mimetype": "text/x-python",
   "name": "python",
   "nbconvert_exporter": "python",
   "pygments_lexer": "ipython3",
   "version": "3.9.13"
  },
  "orig_nbformat": 4,
  "vscode": {
   "interpreter": {
    "hash": "a52af493819045717511545598ab2b73dabca4ca61b402315e0ef2b43666342d"
   }
  }
 },
 "nbformat": 4,
 "nbformat_minor": 2
}
