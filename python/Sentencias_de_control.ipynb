{
 "cells": [
  {
   "cell_type": "markdown",
   "metadata": {},
   "source": [
    "# SENTENCIAS DE CONTROL #"
   ]
  },
  {
   "cell_type": "code",
   "execution_count": 6,
   "metadata": {},
   "outputs": [],
   "source": [
    "#En la escuela donde trabajamos tienen el siguiente sistema de notas:\n",
    "#Below 25 - F\n",
    "# 25 to 45 - E\n",
    "# 45 to 50 - D\n",
    "# 50 to 60 - C\n",
    "# 60 to 80 - B\n",
    "# Above 80 - A\n",
    "\n",
    "#1)El objetivo de este ejercicio es que le preguntéis al usuario por una nota (numérica) y nosotros le devolvamos la nota con la letra que le corresponde.\n",
    "\n",
    "nota = float(input ('Que nota tienes?'))\n",
    "\n",
    "\n"
   ]
  },
  {
   "cell_type": "code",
   "execution_count": 9,
   "metadata": {},
   "outputs": [
    {
     "name": "stdout",
     "output_type": "stream",
     "text": [
      "E\n"
     ]
    }
   ],
   "source": [
    "\n",
    "if nota < 25 :\n",
    "    print ('F')\n",
    "elif 45 > nota >= 25:\n",
    "    print ('E')\n",
    "elif 50 > nota >= 45:\n",
    "    print ('D')\n",
    "elif 60 > nota >= 50:\n",
    "    print ('C')\n",
    "elif 80 > nota >= 60:\n",
    "    print ('B')\n",
    "else :\n",
    "    print ('A')"
   ]
  },
  {
   "cell_type": "code",
   "execution_count": 11,
   "metadata": {},
   "outputs": [
    {
     "name": "stdout",
     "output_type": "stream",
     "text": [
      "72  es el mas viejo\n",
      "35  es el mas joven\n"
     ]
    }
   ],
   "source": [
    "#2)Cread tres inputs donde a cada uno de ellos le preguntéis su edad, el objetivo del ejercicio es determinar quien es \n",
    "#el más viejo y el más joven.\n",
    "edad1 = int(input ('Que edad tienes?'))\n",
    "edad2 = int(input ('Que edad tienes?'))\n",
    "edad3 = int(input ('Que edad tienes?'))\n",
    "\n",
    "if edad1 > edad2 and edad1 > edad3:\n",
    "    print (edad1, ' es el mas viejo')\n",
    "elif edad1 < edad2 > edad3:\n",
    "    print (edad2, ' es el mas viejo')\n",
    "else:\n",
    "    print( edad3, ' es el mas viejo')\n",
    "\n",
    "#el mas joven\n",
    "\n",
    "if edad1 < edad2 and edad1 < edad3:\n",
    "    print (edad1, ' es el mas joven')\n",
    "elif edad1 > edad2 < edad3:\n",
    "    print (edad2, ' es el mas joven')\n",
    "else:\n",
    "    print( edad3, ' es el mas joven')\n",
    "\n"
   ]
  },
  {
   "cell_type": "code",
   "execution_count": 13,
   "metadata": {},
   "outputs": [
    {
     "name": "stdout",
     "output_type": "stream",
     "text": [
      "Buenos días Anahi\n"
     ]
    }
   ],
   "source": [
    "#3)Escribid un programa que pregunte el nombre del usuario a través de la función input().\n",
    "#Si el nombre es \"Bond\" haced que imprima \"Bienvenido a bordo de 007\". \n",
    "# En caso contrario haced que imprima \"Buenos días NOMBRE\". (Reemplace NOMBRE por el nombre del usuario).\n",
    "\n",
    "nombre = input ('Dime tu nombre')\n",
    "\n",
    "if nombre == 'Bond' :\n",
    "    print('Bienvenido a bordo de 007')\n",
    "else:\n",
    "    print ('Buenos días', nombre )"
   ]
  },
  {
   "cell_type": "code",
   "execution_count": 2,
   "metadata": {},
   "outputs": [
    {
     "name": "stdout",
     "output_type": "stream",
     "text": [
      "['Taiwan']\n"
     ]
    }
   ],
   "source": [
    "\n",
    "#Arbol es un diccionario que muestra el número de árboles de países por kilómetro cuadrado para países aleatorios\n",
    "#con un número considerable de población. \n",
    "\n",
    "# 4)Crea una lista llamada \"masarboles\" que contenga el nombre de los países con más\n",
    "#de 40.000 árboles por kilómetro cuadrado.\n",
    "\n",
    "tree = {\"Taiwan\": 69593, \"Japan\": 49894, \"Russia\": 41396, \"Canada\": 36388, \"Bulgaria\": 24987}\n",
    "masarboles = []\n",
    "if tree[\"Taiwan\"] > 40000:\n",
    "    masarboles.append(\"Taiwan\")\n",
    "elif tree[\"Japan\"] > 40000:\n",
    "    masarboles.append(\"Japan\")\n",
    "elif tree[\"Russia\"] > 40000:\n",
    "    masarboles.append(\"Russia\")\n",
    "elif tree[\"Canada\"] > 40000:\n",
    "    masarboles.append(\"Canada\")\n",
    "elif tree[\"Bulgaria\"] > 40000:\n",
    "    masarboles.append(\"Bulgaria\")\n",
    "print(masarboles)"
   ]
  },
  {
   "cell_type": "code",
   "execution_count": 1,
   "metadata": {},
   "outputs": [
    {
     "name": "stdout",
     "output_type": "stream",
     "text": [
      "Perteneces al grupo B\n"
     ]
    }
   ],
   "source": [
    "#5)Los alumnos de un curso se han dividido en dos grupos A y B de acuerdo al sexo y el nombre. \n",
    "# El grupo A esta formado por las mujeres con un nombre anterior a la M y los hombres con un nombre posterior \n",
    "# a la N y el grupo B por el resto. Escribid un programa que pregunte al usuario su nombre y sexo, \n",
    "# y muestre por pantalla el grupo que le corresponde.\n",
    "\n",
    "sexo = str(input('Eres M (mujer) o H (hombre)?'))\n",
    "letra_nombre = str(input('Con que letra empieza tu nombre?'))\n",
    "if sexo.lower() == 'm' and 'A' <= letra_nombre.upper() <= 'L':\n",
    "    print ('Perteneces al grupo A')\n",
    "elif sexo.lower() == 'h' and 'O' <= letra_nombre.upper() <= 'Z':\n",
    "    print ('Perteneces al grupo A')\n",
    "else: \n",
    "    print ('Perteneces al grupo B')"
   ]
  },
  {
   "cell_type": "code",
   "execution_count": 24,
   "metadata": {},
   "outputs": [
    {
     "name": "stdout",
     "output_type": "stream",
     "text": [
      "0\n",
      "1\n",
      "2\n",
      "[0, 1]\n"
     ]
    }
   ],
   "source": [
    "# 6 Escribid un programa que:\n",
    "# Dada la variable z con valor 0, es decir z = 0.\n",
    "# Mientras que el valor de z sea menor que 3:\n",
    "# Si el valor de z es igual a 0:\n",
    "# Printead el valor de z\n",
    "# Almancenad el valor en una lista auxiliar\n",
    "# Sumadle 1 al valor de z\n",
    "# Si el valor de z es igual a 1:\n",
    "# Printead el valor de z\n",
    "# Almancenad el valor en una lista auxiliar\n",
    "# Sumadle 1 al valor de z\n",
    "# En caso de que no se cumplan las condiciones anteriores:\n",
    "# Printead el valor de z\n",
    "# Sumadle 1 al valor de z\n",
    "\n",
    "z = 0\n",
    "lista = []\n",
    "while z < 3:\n",
    "    if z == 0:\n",
    "        print(z)\n",
    "        lista.insert(z,z)\n",
    "        z += 1\n",
    "    elif z == 1:\n",
    "        print(z)\n",
    "        lista.insert(z,z)\n",
    "        z += 1\n",
    "    else:\n",
    "        print(z)\n",
    "        z += 1\n",
    "print(lista)"
   ]
  },
  {
   "cell_type": "code",
   "execution_count": 1,
   "metadata": {},
   "outputs": [
    {
     "name": "stdout",
     "output_type": "stream",
     "text": [
      "[0, 1, 2, 3]\n"
     ]
    }
   ],
   "source": [
    "#7)El objetivo de este ejercicio es añadir elementos a una lista utilizando el bucle while:\n",
    "# Cread una lista vacía\n",
    "# Cread una variable cuyo valor sea 0\n",
    "# Mientras que la longitud de la lista creada en el primer paso sea menor que 4:\n",
    "# Apendead el valor de la variable creada en el paso 2\n",
    "# Sumad 1 a la variable creada en el paso 2\n",
    "# Por último, printead los valores que hemos añadido en la lista vacía (ya no lo estaría)\n",
    "\n",
    "lista_siete = []\n",
    "variable = 0\n",
    "while len(lista_siete) < 4:\n",
    "    lista_siete.append(variable)\n",
    "    variable += 1\n",
    "print(lista_siete)"
   ]
  },
  {
   "cell_type": "code",
   "execution_count": 25,
   "metadata": {},
   "outputs": [
    {
     "name": "stdout",
     "output_type": "stream",
     "text": [
      "115\n"
     ]
    }
   ],
   "source": [
    "#8) El objetivo de este ejercicio es encontrar la suma de números en una lista usando el bucle while:\n",
    "# Cread una variable cuyo valor sea 0, llamadla \"i\"\n",
    "# Cread una lista que contenga los siguientes números: 23,45,12,10,25\n",
    "# Cread una variable cuyo valor sea 0, llamadla \"suma\"\n",
    "# Mientras que el valor de la variable \"i\" sea menor que la longitud de la lista:\n",
    "# Sumad elemento a elemento los valores de la lista. Es decir, el primero con el segundo; \n",
    "# el resultado de la suma anterior más el tercer número, etc\n",
    "# Sumad 1 a la variable \"i\" por cada iteración por el bucle while\n",
    "# El resultado esperado es 115.\n",
    "\n",
    "i = 0\n",
    "lista_ocho = [23, 45, 12, 10, 25]\n",
    "suma = 0\n",
    "while i < len(lista_ocho):\n",
    "    suma = suma + lista_ocho[i]\n",
    "    i += 1\n",
    "print(suma)"
   ]
  },
  {
   "cell_type": "code",
   "execution_count": 2,
   "metadata": {},
   "outputs": [
    {
     "name": "stdout",
     "output_type": "stream",
     "text": [
      "Tu edad es 15 y debes pagar 5€\n"
     ]
    }
   ],
   "source": [
    "# 9)Escribid un programa para una empresa que tiene salas de juegos para todas las edades \n",
    "# y quiere calcular de forma automática el precio que debe cobrar a sus clientes por entrar. \n",
    "# El programa debe preguntar al usuario la edad del cliente y mostrar el precio de la entrada. \n",
    "# Si el cliente es menor de 4 años puede entrar gratis, si tiene entre 4 y 18 años debe pagar 5€ \n",
    "# y si es mayor de 18 años, 10€.\n",
    "\n",
    "\n",
    "edad = int(input(\"¿Dime cual es tu edad?\"))\n",
    "if edad <= 4:\n",
    "    print(f\"Tu edad es {edad} y puedes entrar gratis\")\n",
    "elif 4 < edad <= 18:\n",
    "    print(f\"Tu edad es {edad} y debes pagar 5€\")\n",
    "else:\n",
    "    print(f\"Tu edad es {edad} y debes pagar 10€\")"
   ]
  },
  {
   "cell_type": "code",
   "execution_count": 4,
   "metadata": {},
   "outputs": [
    {
     "name": "stdout",
     "output_type": "stream",
     "text": [
      "Tu pizza es vegetariana y lleva mozzarella, tomate y pimiento.\n"
     ]
    }
   ],
   "source": [
    "# 10)La pizzería Bella Napoli ofrece pizzas vegetarianas y no vegetarianas a sus clientes. \n",
    "# Los ingredientes para cada tipo de pizza aparecen a continuación.\n",
    "# Ingredientes vegetarianos: Pimiento y tofu.\n",
    "# Ingredientes no vegetarianos: Peperoni, Jamón y Salmón.\n",
    "# Escribid un programa que pregunte al usuario si quiere una pizza vegetariana o no, \n",
    "# y en función de su respuesta le muestre un menú con los ingredientes disponibles para que elija. \n",
    "# Solo se puede eligir un ingrediente además de la mozzarella y el tomate que están en todas la pizzas. \n",
    "# Al final se debe mostrar por pantalla si la pizza elegida es vegetariana o no y \n",
    "# todos los ingredientes que lleva.\n",
    "\n",
    "tipo_pizza = input(\"Dime el tipo de pizza que quieres (V) Vegetariana, (N) No vegetariana: \").upper()\n",
    "\n",
    "if tipo_pizza == \"V\":\n",
    "    ingrediente = input(\"Los ingredientes vegetarianos son (P) Pimiento y (T) Tofu, elige uno: \").upper()\n",
    "    if ingrediente == \"P\":\n",
    "        print(\"Tu pizza es vegetariana y lleva mozzarella, tomate y pimiento.\")\n",
    "    else:\n",
    "        print(\"Tu pizza es vegetariana y lleva mozzarella, tomate y tofu.\")\n",
    "elif tipo_pizza == \"N\":\n",
    "    ingrediente = input(\"Los ingredientes vegetarianos son (P) Peperoni, (J) Jamón y (S) salmón, elige uno: \").upper()\n",
    "    if ingrediente == \"P\":\n",
    "        print(\"Tu pizza no es vegetariana y lleva mozzarella, tomate y peperoni.\")\n",
    "    elif ingrediente == \"J\":\n",
    "        print(\"Tu pizza no es vegetariana y lleva mozzarella, tomate y jamón.\")\n",
    "    else:\n",
    "        print(\"Tu pizza no es vegetariana y lleva mozzarella, tomate y salmón\")"
   ]
  }
 ],
 "metadata": {
  "kernelspec": {
   "display_name": "Python 3.10.5 64-bit",
   "language": "python",
   "name": "python3"
  },
  "language_info": {
   "codemirror_mode": {
    "name": "ipython",
    "version": 3
   },
   "file_extension": ".py",
   "mimetype": "text/x-python",
   "name": "python",
   "nbconvert_exporter": "python",
   "pygments_lexer": "ipython3",
   "version": "3.10.5"
  },
  "orig_nbformat": 4,
  "vscode": {
   "interpreter": {
    "hash": "8c8a315b11d35e0bc8e73c6f82343947dc27883c3d37ade79ad89feb1fc5ee64"
   }
  }
 },
 "nbformat": 4,
 "nbformat_minor": 2
}
