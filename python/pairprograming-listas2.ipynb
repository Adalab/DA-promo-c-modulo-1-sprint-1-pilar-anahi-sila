{
 "cells": [
  {
   "cell_type": "code",
   "execution_count": 60,
   "metadata": {},
   "outputs": [
    {
     "name": "stdout",
     "output_type": "stream",
     "text": [
      "[24, 61, 4, 98, 93, 89, 59, 53, 40, 27]\n"
     ]
    }
   ],
   "source": [
    "#Cread una lista con 10 números aleatorios entre el 0 y el 100. Para esto tendréis que ejecutar el siguiente código:\n",
    "import random\n",
    "lista = random.sample(range(1,100), 10)\n",
    "print(lista)"
   ]
  },
  {
   "cell_type": "code",
   "execution_count": 61,
   "metadata": {},
   "outputs": [
    {
     "data": {
      "text/plain": [
       "10"
      ]
     },
     "execution_count": 61,
     "metadata": {},
     "output_type": "execute_result"
    }
   ],
   "source": [
    "#¿Cuál es la longitud de la lista? Utilizad métodos de Python para extraer este resultado.\n",
    "len(lista)"
   ]
  },
  {
   "cell_type": "code",
   "execution_count": 62,
   "metadata": {},
   "outputs": [
    {
     "data": {
      "text/plain": [
       "4"
      ]
     },
     "execution_count": 62,
     "metadata": {},
     "output_type": "execute_result"
    }
   ],
   "source": [
    "#Extraed el número que está en la tercera posición.Recordad que los índices en Python empiezan en 0 y que no corresponden con las \"posiciones humanas\"\n",
    "lista[2]"
   ]
  },
  {
   "cell_type": "code",
   "execution_count": 63,
   "metadata": {},
   "outputs": [
    {
     "data": {
      "text/plain": [
       "4"
      ]
     },
     "execution_count": 63,
     "metadata": {},
     "output_type": "execute_result"
    }
   ],
   "source": [
    "#Extraed el número que esta en la tercera posición utilizando los índices negativos.\n",
    "lista[-8]"
   ]
  },
  {
   "cell_type": "code",
   "execution_count": 64,
   "metadata": {},
   "outputs": [
    {
     "name": "stdout",
     "output_type": "stream",
     "text": [
      "\n"
     ]
    }
   ],
   "source": [
    "#Preguntad al usuario por un número de la lista que hemos creado en el primer paso, recordad que para eso tendréis que usar la función input. ¿En que posición esta el número que ha eligido la usuaria?\n",
    "numero_escogido = input (\"escribe un numero de la lista\")\n",
    "print(numero_escogido)"
   ]
  },
  {
   "cell_type": "code",
   "execution_count": 65,
   "metadata": {},
   "outputs": [
    {
     "ename": "ValueError",
     "evalue": "'' is not in list",
     "output_type": "error",
     "traceback": [
      "\u001b[0;31m---------------------------------------------------------------------------\u001b[0m",
      "\u001b[0;31mValueError\u001b[0m                                Traceback (most recent call last)",
      "\u001b[0;32m/var/folders/qq/jtqr5_ts3_5frnqgj2ky0sjr0000gn/T/ipykernel_46598/2757175442.py\u001b[0m in \u001b[0;36m<module>\u001b[0;34m\u001b[0m\n\u001b[0;32m----> 1\u001b[0;31m \u001b[0mposicion_numeroescogido\u001b[0m \u001b[0;34m=\u001b[0m \u001b[0mlista\u001b[0m\u001b[0;34m.\u001b[0m\u001b[0mindex\u001b[0m\u001b[0;34m(\u001b[0m\u001b[0mnumero_escogido\u001b[0m\u001b[0;34m)\u001b[0m\u001b[0;34m\u001b[0m\u001b[0;34m\u001b[0m\u001b[0m\n\u001b[0m",
      "\u001b[0;31mValueError\u001b[0m: '' is not in list"
     ]
    }
   ],
   "source": [
    "posicion_numeroescogido = lista.index(numero_escogido)"
   ]
  },
  {
   "cell_type": "code",
   "execution_count": null,
   "metadata": {},
   "outputs": [
    {
     "data": {
      "text/plain": [
       "[1, 24, 61]"
      ]
     },
     "execution_count": 20,
     "metadata": {},
     "output_type": "execute_result"
    }
   ],
   "source": [
    "#Extraed los valores que estén entre la tercera posición y la quinta (ambos inclusive). Esto nos tendrá que devolver una lista de 3 elementos.\n",
    "lista[2:5]"
   ]
  },
  {
   "cell_type": "code",
   "execution_count": null,
   "metadata": {},
   "outputs": [
    {
     "data": {
      "text/plain": [
       "[19, 38, 77, 57]"
      ]
     },
     "execution_count": 22,
     "metadata": {},
     "output_type": "execute_result"
    }
   ],
   "source": [
    "#Extraed los valores que estén entre las posiciones 6 y 9 utilizando índices negativos. Os debe devolver una lista con 4 números.\n",
    "lista[-5:-1]"
   ]
  },
  {
   "cell_type": "code",
   "execution_count": null,
   "metadata": {},
   "outputs": [
    {
     "data": {
      "text/plain": [
       "[98, 1, 61, 38, 57]"
      ]
     },
     "execution_count": 23,
     "metadata": {},
     "output_type": "execute_result"
    }
   ],
   "source": [
    "#¿Cuáles son los numéros que están en las posiciones pares nuestra lista?\n",
    "lista[::2]\n"
   ]
  },
  {
   "cell_type": "code",
   "execution_count": null,
   "metadata": {},
   "outputs": [
    {
     "data": {
      "text/plain": [
       "[6, 24, 19, 77, 63]"
      ]
     },
     "execution_count": 25,
     "metadata": {},
     "output_type": "execute_result"
    }
   ],
   "source": [
    "#¿Y los que están en posiciones impares?\n",
    "lista[1::2]"
   ]
  },
  {
   "cell_type": "code",
   "execution_count": 67,
   "metadata": {},
   "outputs": [],
   "source": [
    "#Dadas las siguientes listas:\n",
    "nombres = [\"Laura\", \"Lorena\", \"Lupe\", \"Loreto\", \"Lucía\"]\n",
    "notas = [9, 8.5, 9.8, 8.9, 9.2]\n"
   ]
  },
  {
   "cell_type": "code",
   "execution_count": 68,
   "metadata": {},
   "outputs": [
    {
     "name": "stdout",
     "output_type": "stream",
     "text": [
      "2\n",
      "la nota de Lupe es: 9.8\n"
     ]
    }
   ],
   "source": [
    "#¿Qué nota ha sacado Lupe? Para este ejercicio os pedimos que uséis primero el método index() de listas y luego lo índices con [] de las listas. Para esto tendréis que sacar primero en que posición esta Lupe en la lista nombres y usar el resultado de este paso para acceder ,usando los índices de Python, a la nota de Lupe.\n",
    "posicion_lupe = nombres.index(\"Lupe\")\n",
    "print(posicion_lupe)\n",
    "print(\"la nota de Lupe es:\", notas[posicion_lupe])"
   ]
  },
  {
   "cell_type": "code",
   "execution_count": 69,
   "metadata": {},
   "outputs": [
    {
     "name": "stdout",
     "output_type": "stream",
     "text": [
      "la nota de Lupe es: 9.8\n"
     ]
    }
   ],
   "source": [
    "print(\"la nota de Lupe es:\", notas[nombres.index(\"Lupe\")])"
   ]
  },
  {
   "cell_type": "code",
   "execution_count": 70,
   "metadata": {},
   "outputs": [
    {
     "data": {
      "text/plain": [
       "9.8"
      ]
     },
     "execution_count": 70,
     "metadata": {},
     "output_type": "execute_result"
    }
   ],
   "source": [
    "#De la misma forma, ¿qué alumna a sacado la nota más alta?\n",
    "# Tendréis que poner en práctica, métodos aprendidos hoy y en la lección de listas de ayer.\n",
    "max(notas)\n"
   ]
  },
  {
   "cell_type": "code",
   "execution_count": 71,
   "metadata": {},
   "outputs": [
    {
     "data": {
      "text/plain": [
       "2"
      ]
     },
     "execution_count": 71,
     "metadata": {},
     "output_type": "execute_result"
    }
   ],
   "source": [
    "notas.index(max(notas))"
   ]
  },
  {
   "cell_type": "code",
   "execution_count": 72,
   "metadata": {},
   "outputs": [
    {
     "data": {
      "text/plain": [
       "'Lupe'"
      ]
     },
     "execution_count": 72,
     "metadata": {},
     "output_type": "execute_result"
    }
   ],
   "source": [
    "nombres[notas.index(max(notas))]"
   ]
  },
  {
   "cell_type": "code",
   "execution_count": 73,
   "metadata": {},
   "outputs": [
    {
     "data": {
      "text/plain": [
       "'Lorena'"
      ]
     },
     "execution_count": 73,
     "metadata": {},
     "output_type": "execute_result"
    }
   ],
   "source": [
    "#¿Qué alumna a sacado la nota más baja? ¿Es esta nota mayor que 5?\n",
    "nombres[notas.index(min(notas))]"
   ]
  },
  {
   "cell_type": "code",
   "execution_count": 74,
   "metadata": {},
   "outputs": [
    {
     "data": {
      "text/plain": [
       "True"
      ]
     },
     "execution_count": 74,
     "metadata": {},
     "output_type": "execute_result"
    }
   ],
   "source": [
    "min(notas) >= 5"
   ]
  },
  {
   "cell_type": "code",
   "execution_count": 79,
   "metadata": {},
   "outputs": [
    {
     "name": "stdout",
     "output_type": "stream",
     "text": [
      "[9.8, 9.2, 9, 8.9, 8.5]\n"
     ]
    }
   ],
   "source": [
    "#Ordenad la lista de notas de mayor a menor y almacenalo en una nueva variable llamada notas_nuevo_orden\n",
    "notas_nuevo_orden = sorted(notas,reverse = True)\n",
    "print(notas_nuevo_orden)"
   ]
  },
  {
   "cell_type": "code",
   "execution_count": 80,
   "metadata": {},
   "outputs": [
    {
     "name": "stdout",
     "output_type": "stream",
     "text": [
      "[9.8, 9.2, 9, 8.9, 8.5]\n"
     ]
    }
   ],
   "source": [
    "#Ordenad las notas de las alumnas de mayor a menor. Usa el método que sobreescriba la variable notas.\n",
    "notas.sort(reverse = True)\n",
    "print(notas)"
   ]
  },
  {
   "cell_type": "code",
   "execution_count": 81,
   "metadata": {},
   "outputs": [
    {
     "name": "stdout",
     "output_type": "stream",
     "text": [
      "['Lupe', 'Lucía', 'Loreto', 'Lorena', 'Laura']\n"
     ]
    }
   ],
   "source": [
    "#Ordenad la lista de nombres de mayor a menor. ¿Qué es lo que ha pasado?\n",
    "nombres_nuevo_orden = sorted(nombres,reverse = True)\n",
    "print(nombres_nuevo_orden)"
   ]
  },
  {
   "cell_type": "code",
   "execution_count": 82,
   "metadata": {},
   "outputs": [],
   "source": [
    "#Borrad la lista de notas.\n",
    "del notas"
   ]
  },
  {
   "cell_type": "code",
   "execution_count": 54,
   "metadata": {},
   "outputs": [
    {
     "data": {
      "text/plain": [
       "[34, 56, 82, [99, 64, 24], [12, 59, 71]]"
      ]
     },
     "execution_count": 54,
     "metadata": {},
     "output_type": "execute_result"
    }
   ],
   "source": [
    "#Dadas las siguientes listas:\n",
    "lunes = [34,56,82]\n",
    "martes = [99, 64, 24]\n",
    "miercoles = [12, 59, 71]\n",
    "#Unid las tres listas de forma que tengamos el siguiente output\n",
    "#[34, 56, 82, [99, 64, 24], [12, 59, 71]]\n",
    "\n",
    "lunes.append(martes)\n",
    "lunes.append(miercoles)\n",
    "lunes\n",
    "\n"
   ]
  },
  {
   "cell_type": "code",
   "execution_count": 44,
   "metadata": {},
   "outputs": [
    {
     "data": {
      "text/plain": [
       "[34, 56, 82, 99, 64, 24, 12, 59, 71]"
      ]
     },
     "execution_count": 44,
     "metadata": {},
     "output_type": "execute_result"
    }
   ],
   "source": [
    "#Definid de nuevo la tres listas. Ahora unid las tres listas de tal forma que obtengamos el siguiente output:\n",
    "#[34, 56, 82, 99, 64, 24, 12, 59, 71]\n",
    "\n",
    "lunes = [34, 56, 82]\n",
    "martes = [99, 64, 24]\n",
    "miercoles = [12, 59, 71]\n",
    "\n",
    "lunes.extend(martes + miercoles)\n",
    "lunes"
   ]
  },
  {
   "cell_type": "code",
   "execution_count": 48,
   "metadata": {},
   "outputs": [
    {
     "data": {
      "text/plain": [
       "[100, 34, 56, 82]"
      ]
     },
     "execution_count": 48,
     "metadata": {},
     "output_type": "execute_result"
    }
   ],
   "source": [
    "#Definid de nuevo las tres listas. Insertad los siguientes valores:\n",
    "#En la lista lunes un 100 en la primera posición\n",
    "\n",
    "lunes = [34, 56, 82]\n",
    "lunes.insert(0,100)\n",
    "lunes\n",
    "\n",
    "\n"
   ]
  },
  {
   "cell_type": "code",
   "execution_count": 49,
   "metadata": {},
   "outputs": [
    {
     "data": {
      "text/plain": [
       "[99, 64, 100, 24]"
      ]
     },
     "execution_count": 49,
     "metadata": {},
     "output_type": "execute_result"
    }
   ],
   "source": [
    "#En la lista martes un 100 en la tercera posición\n",
    "martes = [99, 64, 24]\n",
    "martes.insert(2,100)\n",
    "martes\n"
   ]
  },
  {
   "cell_type": "code",
   "execution_count": 53,
   "metadata": {},
   "outputs": [
    {
     "data": {
      "text/plain": [
       "[12, 59, 71, 100]"
      ]
     },
     "execution_count": 53,
     "metadata": {},
     "output_type": "execute_result"
    }
   ],
   "source": [
    "#En la lista miercoles un 100 en la última posición\n",
    "miercoles = [12, 59, 71]\n",
    "miercoles.append(100)\n",
    "miercoles\n"
   ]
  }
 ],
 "metadata": {
  "kernelspec": {
   "display_name": "Python 3",
   "language": "python",
   "name": "python3"
  },
  "language_info": {
   "codemirror_mode": {
    "name": "ipython",
    "version": 3
   },
   "file_extension": ".py",
   "mimetype": "text/x-python",
   "name": "python",
   "nbconvert_exporter": "python",
   "pygments_lexer": "ipython3",
   "version": "3.9.7"
  },
  "orig_nbformat": 4,
  "vscode": {
   "interpreter": {
    "hash": "c051a96af7564dc2e954afa8bbe1303cffa3b89daf2be210fabb8659fb5e9a61"
   }
  }
 },
 "nbformat": 4,
 "nbformat_minor": 2
}
