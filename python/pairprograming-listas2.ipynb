{
 "cells": [
  {
   "cell_type": "markdown",
   "metadata": {},
   "source": [
    "# LISTAS 2 #"
   ]
  },
  {
   "cell_type": "code",
   "execution_count": 2,
   "metadata": {},
   "outputs": [
    {
     "name": "stdout",
     "output_type": "stream",
     "text": [
      "[53, 13, 83, 42, 19, 69, 76, 49, 35, 20]\n"
     ]
    }
   ],
   "source": [
    "#1)Cread una lista con 10 números aleatorios entre el 0 y el 100.\n",
    "# Para esto tendréis que ejecutar el siguiente código:\n",
    "\n",
    "import random\n",
    "lista = random.sample(range(1,100), 10)\n",
    "print(lista)"
   ]
  },
  {
   "cell_type": "code",
   "execution_count": 3,
   "metadata": {},
   "outputs": [
    {
     "data": {
      "text/plain": [
       "10"
      ]
     },
     "execution_count": 3,
     "metadata": {},
     "output_type": "execute_result"
    }
   ],
   "source": [
    "#2)Con la lista creada en el ejercicio anterior:\n",
    "#2.1)¿Cuál es la longitud de la lista? Utilizad métodos de Python para extraer este resultado.\n",
    "\n",
    "len(lista)"
   ]
  },
  {
   "cell_type": "code",
   "execution_count": 4,
   "metadata": {},
   "outputs": [
    {
     "data": {
      "text/plain": [
       "83"
      ]
     },
     "execution_count": 4,
     "metadata": {},
     "output_type": "execute_result"
    }
   ],
   "source": [
    "#2.2)Extraed el número que está en la tercera posición.\n",
    "# Recordad que los índices en Python empiezan en 0 y que no corresponden con las \"posiciones humanas\".\n",
    "\n",
    "lista[2]"
   ]
  },
  {
   "cell_type": "code",
   "execution_count": 5,
   "metadata": {},
   "outputs": [
    {
     "data": {
      "text/plain": [
       "83"
      ]
     },
     "execution_count": 5,
     "metadata": {},
     "output_type": "execute_result"
    }
   ],
   "source": [
    "#2.3)Extraed el número que esta en la tercera posición utilizando los índices negativos.\n",
    "\n",
    "lista[-8]"
   ]
  },
  {
   "cell_type": "code",
   "execution_count": 6,
   "metadata": {},
   "outputs": [
    {
     "name": "stdout",
     "output_type": "stream",
     "text": [
      "83\n"
     ]
    },
    {
     "data": {
      "text/plain": [
       "int"
      ]
     },
     "execution_count": 6,
     "metadata": {},
     "output_type": "execute_result"
    }
   ],
   "source": [
    "#2.4)Preguntad al usuario por un número de la lista que hemos creado en el primer paso, \n",
    "#recordad que para eso tendréis que usar la función input. \n",
    "\n",
    "numero_escogido = int(input (\"escribe un numero de la lista\"))\n",
    "print(numero_escogido)\n",
    "\n",
    "type(numero_escogido)"
   ]
  },
  {
   "cell_type": "code",
   "execution_count": 7,
   "metadata": {},
   "outputs": [
    {
     "data": {
      "text/plain": [
       "2"
      ]
     },
     "execution_count": 7,
     "metadata": {},
     "output_type": "execute_result"
    }
   ],
   "source": [
    "#¿En que posición esta el número que ha eligido la usuaria?\n",
    "\n",
    "posicion_numeroescogido = lista.index(numero_escogido)\n",
    "posicion_numeroescogido"
   ]
  },
  {
   "cell_type": "code",
   "execution_count": 8,
   "metadata": {},
   "outputs": [
    {
     "data": {
      "text/plain": [
       "[83, 42, 19]"
      ]
     },
     "execution_count": 8,
     "metadata": {},
     "output_type": "execute_result"
    }
   ],
   "source": [
    "#2.5)Extraed los valores que estén entre la tercera posición y la quinta (ambos inclusive).\n",
    "#Esto nos tendrá que devolver una lista de 3 elementos.\n",
    "\n",
    "lista[2:5]"
   ]
  },
  {
   "cell_type": "code",
   "execution_count": 9,
   "metadata": {},
   "outputs": [
    {
     "data": {
      "text/plain": [
       "[69, 76, 49, 35]"
      ]
     },
     "execution_count": 9,
     "metadata": {},
     "output_type": "execute_result"
    }
   ],
   "source": [
    "#2.6)Extraed los valores que estén entre las posiciones 6 y 9 utilizando índices negativos. \n",
    "#Os debe devolver una lista con 4 números.\n",
    "\n",
    "lista[-5:-1]"
   ]
  },
  {
   "cell_type": "code",
   "execution_count": 10,
   "metadata": {},
   "outputs": [
    {
     "data": {
      "text/plain": [
       "[13, 42, 69, 49, 20]"
      ]
     },
     "execution_count": 10,
     "metadata": {},
     "output_type": "execute_result"
    }
   ],
   "source": [
    "#2.7)¿Cuáles son los numéros que están en las posiciones pares nuestra lista?\n",
    "\n",
    "lista[1::2]\n"
   ]
  },
  {
   "cell_type": "code",
   "execution_count": 11,
   "metadata": {},
   "outputs": [
    {
     "data": {
      "text/plain": [
       "[53, 83, 19, 76, 35]"
      ]
     },
     "execution_count": 11,
     "metadata": {},
     "output_type": "execute_result"
    }
   ],
   "source": [
    "#2.8)¿Y los que están en posiciones impares?\n",
    "\n",
    "lista[::2]"
   ]
  },
  {
   "cell_type": "code",
   "execution_count": 34,
   "metadata": {},
   "outputs": [],
   "source": [
    "#3)Dadas las siguientes listas: nombres = [\"Laura\", \"Lorena\", \"Lupe\", \"Loreto\", \"Lucía\"] notas = [9, 8.5, 9.8, 8.9, 9.2]\n",
    "\n",
    "nombres = [\"Laura\", \"Lorena\", \"Lupe\", \"Loreto\", \"Lucía\"]\n",
    "notas = [9, 8.5, 9.8, 8.9, 9.2]\n"
   ]
  },
  {
   "cell_type": "code",
   "execution_count": 36,
   "metadata": {},
   "outputs": [
    {
     "name": "stdout",
     "output_type": "stream",
     "text": [
      "2\n",
      "La nota de Lupe es: 9.8\n"
     ]
    }
   ],
   "source": [
    "#3.1) ¿Qué nota ha sacado Lupe? \n",
    "#Para este ejercicio os pedimos que uséis primero el método index() de listas y luego lo índices con [] de las listas.\n",
    "#Para esto tendréis que sacar primero en que posición esta Lupe en la lista nombres y usar el resultado de este paso para\n",
    "#acceder, usando los índices de Python, a la nota de Lupe.\n",
    "\n",
    "posicion_lupe = nombres.index(\"Lupe\")\n",
    "print(posicion_lupe)\n",
    "print(\"La nota de Lupe es:\", notas[posicion_lupe])\n"
   ]
  },
  {
   "cell_type": "code",
   "execution_count": 38,
   "metadata": {},
   "outputs": [
    {
     "name": "stdout",
     "output_type": "stream",
     "text": [
      "La nota de Lupe es: 9.8\n"
     ]
    }
   ],
   "source": [
    "#Otro metodo de obtener la nota de Lupe en una sola linea seria:\n",
    "\n",
    "print(\"La nota de Lupe es:\", notas[nombres.index(\"Lupe\")])"
   ]
  },
  {
   "cell_type": "code",
   "execution_count": 41,
   "metadata": {},
   "outputs": [
    {
     "data": {
      "text/plain": [
       "'Lupe'"
      ]
     },
     "execution_count": 41,
     "metadata": {},
     "output_type": "execute_result"
    }
   ],
   "source": [
    "#3.2)De la misma forma, ¿qué alumna a sacado la nota más alta?\n",
    "# Tendréis que poner en práctica métodos aprendidos hoy y en la lección de listas de ayer.\n",
    "\n",
    "nombres[notas.index(max(notas))]\n"
   ]
  },
  {
   "cell_type": "code",
   "execution_count": null,
   "metadata": {},
   "outputs": [
    {
     "data": {
      "text/plain": [
       "'Lupe'"
      ]
     },
     "execution_count": 72,
     "metadata": {},
     "output_type": "execute_result"
    }
   ],
   "source": [
    "nombres[notas.index(max(notas))]"
   ]
  },
  {
   "cell_type": "code",
   "execution_count": 42,
   "metadata": {},
   "outputs": [
    {
     "data": {
      "text/plain": [
       "'Lorena'"
      ]
     },
     "execution_count": 42,
     "metadata": {},
     "output_type": "execute_result"
    }
   ],
   "source": [
    "#3.3)¿Qué alumna a sacado la nota más baja? \n",
    "\n",
    "nombres[notas.index(min(notas))]"
   ]
  },
  {
   "cell_type": "code",
   "execution_count": 49,
   "metadata": {},
   "outputs": [
    {
     "data": {
      "text/plain": [
       "True"
      ]
     },
     "execution_count": 49,
     "metadata": {},
     "output_type": "execute_result"
    }
   ],
   "source": [
    "#¿Es esta nota mayor que 5?\n",
    "\n",
    "min(notas) >= 5"
   ]
  },
  {
   "cell_type": "code",
   "execution_count": 50,
   "metadata": {},
   "outputs": [
    {
     "name": "stdout",
     "output_type": "stream",
     "text": [
      "[9.8, 9.2, 9, 8.9, 8.5]\n"
     ]
    }
   ],
   "source": [
    "#3.4)Ordenad la lista de notas de mayor a menor y almacenalo en una nueva variable llamada notas_nuevo_orden.\n",
    "\n",
    "notas_nuevo_orden = sorted(notas,reverse = True)\n",
    "print(notas_nuevo_orden)"
   ]
  },
  {
   "cell_type": "code",
   "execution_count": 51,
   "metadata": {},
   "outputs": [
    {
     "name": "stdout",
     "output_type": "stream",
     "text": [
      "[9.8, 9.2, 9, 8.9, 8.5]\n"
     ]
    }
   ],
   "source": [
    "#3.5)Ordenad las notas de las alumnas de mayor a menor. Usa el método que sobreescriba la variable notas.\n",
    "\n",
    "notasnuevas = notas.sort(reverse = True)\n",
    "print(notas)"
   ]
  },
  {
   "cell_type": "code",
   "execution_count": 53,
   "metadata": {},
   "outputs": [
    {
     "name": "stdout",
     "output_type": "stream",
     "text": [
      "['Lupe', 'Lucía', 'Loreto', 'Lorena', 'Laura']\n"
     ]
    }
   ],
   "source": [
    "#3.6) Ordenad la lista de nombres de mayor a menor. ¿Qué es lo que ha pasado?. \n",
    "\n",
    "nombres_nuevo_orden = sorted(nombres,reverse = True)\n",
    "print(nombres_nuevo_orden)\n",
    "\n",
    "#Como todas empiezan por el mismo caracter, al ordenar mira el segundo."
   ]
  },
  {
   "cell_type": "code",
   "execution_count": 54,
   "metadata": {},
   "outputs": [],
   "source": [
    "#3.7)Borrad la lista de notas.\n",
    "\n",
    "del notas"
   ]
  },
  {
   "cell_type": "code",
   "execution_count": 59,
   "metadata": {},
   "outputs": [],
   "source": [
    "#4) Dadas las siguientes listas:\n",
    "\n",
    "lunes = [34,56,82]\n",
    "martes = [99, 64, 24]\n",
    "miercoles = [12, 59, 71]\n"
   ]
  },
  {
   "cell_type": "code",
   "execution_count": 60,
   "metadata": {},
   "outputs": [
    {
     "data": {
      "text/plain": [
       "[34, 56, 82, [99, 64, 24], [12, 59, 71]]"
      ]
     },
     "execution_count": 60,
     "metadata": {},
     "output_type": "execute_result"
    }
   ],
   "source": [
    "#4.1)Unid las tres listas de forma que tengamos el siguiente output\n",
    "#[34, 56, 82, [99, 64, 24], [12, 59, 71]]\n",
    "\n",
    "lunes.append(martes)\n",
    "lunes.append(miercoles)\n",
    "lunes"
   ]
  },
  {
   "cell_type": "code",
   "execution_count": 64,
   "metadata": {},
   "outputs": [
    {
     "data": {
      "text/plain": [
       "[34, 56, 82, 99, 64, 24, 12, 59, 71]"
      ]
     },
     "execution_count": 64,
     "metadata": {},
     "output_type": "execute_result"
    }
   ],
   "source": [
    "#4.2)Definid de nuevo la tres listas. Ahora unid las tres listas de tal forma que obtengamos el siguiente output:\n",
    "#[34, 56, 82, 99, 64, 24, 12, 59, 71]\n",
    "\n",
    "lunes = [34, 56, 82]\n",
    "martes = [99, 64, 24]\n",
    "miercoles = [12, 59, 71]\n",
    "\n",
    "lunes.extend(martes + miercoles)\n",
    "lunes"
   ]
  },
  {
   "cell_type": "code",
   "execution_count": 71,
   "metadata": {},
   "outputs": [
    {
     "name": "stdout",
     "output_type": "stream",
     "text": [
      "[100, 34, 56, 82]\n",
      "[99, 64, 100, 24]\n",
      "[12, 59, 71, 100]\n"
     ]
    }
   ],
   "source": [
    "#4.3)Definid de nuevo las tres listas. Insertad los siguientes valores:\n",
    "\n",
    "#En la lista lunes un 100 en la primera posición.\n",
    "lunes = [34, 56, 82]\n",
    "lunes.insert(0,100)\n",
    "print(lunes)\n",
    "\n",
    "#En la lista martes un 100 en la tercera posición.\n",
    "martes = [99, 64, 24]\n",
    "martes.insert(2,100)\n",
    "print(martes)\n",
    "\n",
    "#En la lista miercoles un 100 en la última posición.\n",
    "miercoles = [12, 59, 71]\n",
    "miercoles.append (100)\n",
    "print (miercoles)"
   ]
  }
 ],
 "metadata": {
  "kernelspec": {
   "display_name": "Python 3.9.7 ('base')",
   "language": "python",
   "name": "python3"
  },
  "language_info": {
   "codemirror_mode": {
    "name": "ipython",
    "version": 3
   },
   "file_extension": ".py",
   "mimetype": "text/x-python",
   "name": "python",
   "nbconvert_exporter": "python",
   "pygments_lexer": "ipython3",
   "version": "3.9.7"
  },
  "orig_nbformat": 4,
  "vscode": {
   "interpreter": {
    "hash": "6e8aefa1bb798882dbdb84db5119449300b1df017c6fd8f01a2c188a17dff6eb"
   }
  }
 },
 "nbformat": 4,
 "nbformat_minor": 2
}
