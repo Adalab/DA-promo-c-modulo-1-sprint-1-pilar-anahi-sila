{
 "cells": [
  {
   "cell_type": "markdown",
   "metadata": {},
   "source": [
    "Creamos tres variables integer"
   ]
  },
  {
   "cell_type": "code",
   "execution_count": 4,
   "metadata": {},
   "outputs": [
    {
     "name": "stdout",
     "output_type": "stream",
     "text": [
      "<class 'int'>\n",
      "1\n"
     ]
    }
   ],
   "source": [
    "numero1 = 1\n",
    "numero2 = 2\n",
    "numero3 = 3"
   ]
  },
  {
   "cell_type": "code",
   "execution_count": 8,
   "metadata": {},
   "outputs": [
    {
     "name": "stdout",
     "output_type": "stream",
     "text": [
      "False\n",
      "False\n",
      "False\n",
      "True\n"
     ]
    }
   ],
   "source": [
    "# Número 1 es mayor que número 2\n",
    "print(numero1 > numero2)\n",
    "# Número 1 es menor que número 2 pero mayor que numero 3\n",
    "print(numero2 > numero1 > numero3)\n",
    "# Número 3 es igual que número 2\n",
    "print(numero3 == numero2)\n",
    "# Número 2 distinto que número 1\n",
    "print(numero2 != numero1)"
   ]
  },
  {
   "cell_type": "code",
   "execution_count": 2,
   "metadata": {},
   "outputs": [
    {
     "name": "stdout",
     "output_type": "stream",
     "text": [
      "1.2\n",
      "2.1\n"
     ]
    }
   ],
   "source": [
    "#Cread dos variables numéricas de tipo float (decimal) con dos decimales, llamdas de la siguiente forma:\n",
    "\n",
    "altura1= 1.2\n",
    "altura2 = 2.1\n",
    "\n",
    "print (altura1)\n",
    "print (altura2)"
   ]
  },
  {
   "cell_type": "code",
   "execution_count": 3,
   "metadata": {},
   "outputs": [
    {
     "name": "stdout",
     "output_type": "stream",
     "text": [
      "3.3\n",
      "-0.9000000000000001\n",
      "1.2\n",
      "0.6\n"
     ]
    }
   ],
   "source": [
    "#Cuál es la suma de las dos alturas\n",
    "\n",
    "print(altura1 + altura2)\n",
    "\n",
    "#Cuál es la diferencia entre las alturas\n",
    "\n",
    "print (altura1 - altura2)\n",
    "\n",
    "#Cuál es el resto de la división de las dos alturas\n",
    "\n",
    "print (altura1 % altura2)\n",
    "\n",
    "#Cuál es resultado de la división de las dos alturas, redondead el resultado a un decimal.\n",
    "\n",
    "print(round(altura1/altura2 , 1))\n"
   ]
  },
  {
   "cell_type": "code",
   "execution_count": 10,
   "metadata": {},
   "outputs": [
    {
     "name": "stdout",
     "output_type": "stream",
     "text": [
      "Anahi Morales\n",
      "¿cual es su nombre y apellido? \n",
      "Anahi Morales\n",
      "ANAHI MORALES\n",
      "anahi morales\n",
      "Anahi Morales\n",
      "Anahi morales\n"
     ]
    }
   ],
   "source": [
    "#Escribid un programa usando la función input() que le pregunte al usuario su nombre y apellidos. Una vez que tengamos el nombre del usuario:\n",
    "\n",
    "nombre = input ('¿cual es su nombre y apellido? ' )\n",
    "print ('¿cual es su nombre y apellido? ')\n",
    "print (nombre)\n",
    "\n",
    "\n",
    "#Una vez que tengamos el nombre del usuario:\n",
    "#Printead su nombre y apellidos todo en mayúsculas\n",
    "\n",
    "print (nombre.upper())\n",
    "\n",
    "#Printead su nombre y apellidos todo en minúsculas\n",
    "\n",
    "print (nombre.lower())\n",
    "\n",
    "#Printead su nombre y apellidos con la primera letra del nombre y los apellidos en mayúscula y el resto en minúscula.\n",
    "\n",
    "print (nombre.title())\n",
    "\n",
    "#Printeas solo la primera letra del nombre en mayúscula.\n",
    "\n",
    "print (nombre.capitalize())"
   ]
  },
  {
   "cell_type": "code",
   "execution_count": 11,
   "metadata": {},
   "outputs": [
    {
     "name": "stdout",
     "output_type": "stream",
     "text": [
      "Soleado\n",
      "a\n",
      "E\n"
     ]
    }
   ],
   "source": [
    "#Escribid un programa usando la función input() que:\n",
    "\n",
    "#Le pregunte al usuario por una frase, almacenad este resultado en una variable.\n",
    "\n",
    "variable1 = input (\"¿Qué tiempo hace hoy?: \")\n",
    "print (variable1)\n",
    "\n",
    "#Le pregunte al usuario por una vocal, almacenad este resultado en una variable.\n",
    "\n",
    "variable2 = input (\"Dime una vocal \")\n",
    "print (variable2)\n",
    "\n",
    "#Printead la misma frase pero con la vocal introducida en mayúsulas.\n",
    "\n",
    "variable3 = input (\"Dime una vocal \")\n",
    "print (variable3.upper())"
   ]
  },
  {
   "cell_type": "code",
   "execution_count": 12,
   "metadata": {},
   "outputs": [
    {
     "name": "stdout",
     "output_type": "stream",
     "text": [
      "['harina', 'huevos', 'leche']\n",
      "harina\n",
      "huevos\n",
      "leche\n"
     ]
    }
   ],
   "source": [
    "#Escribid un programa usando la función input() que:\n",
    "#Le pregunte al usuario por la lista de la compra, separando cada elemento por comas.\n",
    "\n",
    "lista = input (\"La lista de la compra\")\n",
    "lista_separada = lista. split()\n",
    "print (lista_separada)\n",
    "\n",
    "#Devolved la lista de compra donde veamos cada elemento en una línea.\n",
    "\n",
    "lista_en_lineas = \"\\n\".join (lista_separada)\n",
    "print (lista_en_lineas)"
   ]
  }
 ],
 "metadata": {
  "kernelspec": {
   "display_name": "Python 3.8.9 64-bit",
   "language": "python",
   "name": "python3"
  },
  "language_info": {
   "codemirror_mode": {
    "name": "ipython",
    "version": 3
   },
   "file_extension": ".py",
   "mimetype": "text/x-python",
   "name": "python",
   "nbconvert_exporter": "python",
   "pygments_lexer": "ipython3",
   "version": "3.8.9"
  },
  "orig_nbformat": 4,
  "vscode": {
   "interpreter": {
    "hash": "31f2aee4e71d21fbe5cf8b01ff0e069b9275f58929596ceb00d14d90e3e16cd6"
   }
  }
 },
 "nbformat": 4,
 "nbformat_minor": 2
}
