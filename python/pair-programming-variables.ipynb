{
 "cells": [
  {
   "cell_type": "markdown",
   "metadata": {},
   "source": [
    " # VARIABLES #"
   ]
  },
  {
   "cell_type": "code",
   "execution_count": 16,
   "metadata": {},
   "outputs": [
    {
     "data": {
      "text/plain": [
       "int"
      ]
     },
     "execution_count": 16,
     "metadata": {},
     "output_type": "execute_result"
    }
   ],
   "source": [
    "#1)Cread tres variables numéricas de tipo integer (entero), llamadas de la siguiente forma:\n",
    "#numero1 /numero2 /numero3\n",
    "\n",
    "numero1 = 1\n",
    "numero2 = 2\n",
    "numero3 = 3\n",
    "\n",
    "type(numero1)"
   ]
  },
  {
   "cell_type": "code",
   "execution_count": 2,
   "metadata": {},
   "outputs": [
    {
     "name": "stdout",
     "output_type": "stream",
     "text": [
      "False\n",
      "False\n",
      "False\n",
      "True\n"
     ]
    }
   ],
   "source": [
    "#1.1)Utilizando los operadores lógicos:\n",
    "\n",
    "# Número 1 es mayor que número 2.\n",
    "print(numero1 > numero2)\n",
    "\n",
    "# Número 1 es menor que número 2 pero mayor que numero 3.\n",
    "print(numero2 > numero1 > numero3)\n",
    "\n",
    "# Número 3 es igual que número 2.\n",
    "print(numero3 == numero2)\n",
    "\n",
    "# Número 2 distinto que número 1.\n",
    "print(numero2 != numero1)"
   ]
  },
  {
   "cell_type": "code",
   "execution_count": 17,
   "metadata": {},
   "outputs": [
    {
     "name": "stdout",
     "output_type": "stream",
     "text": [
      "6.57\n",
      "2.87\n"
     ]
    },
    {
     "data": {
      "text/plain": [
       "float"
      ]
     },
     "execution_count": 17,
     "metadata": {},
     "output_type": "execute_result"
    }
   ],
   "source": [
    "#2)Cread dos variables numéricas de tipo float (decimal) con dos decimales, \n",
    "# llamdas de la siguiente forma: altura1 /altura2\n",
    "\n",
    "altura1= 6.57\n",
    "altura2 = 2.87\n",
    "\n",
    "print (altura1)\n",
    "print (altura2)\n",
    "\n",
    "type(altura1)"
   ]
  },
  {
   "cell_type": "code",
   "execution_count": 14,
   "metadata": {},
   "outputs": [
    {
     "name": "stdout",
     "output_type": "stream",
     "text": [
      "9.440000000000001\n",
      "3.7\n",
      "0.8300000000000001\n",
      "2.3\n"
     ]
    }
   ],
   "source": [
    "#2.1)Utilizando los operadores matemáticos aprendidos en la lección:\n",
    "\n",
    "#Cuál es la suma de las dos alturas.\n",
    "print(altura1 + altura2)\n",
    "\n",
    "#Cuál es la diferencia entre las alturas.\n",
    "print (altura1 - altura2)\n",
    "\n",
    "#Cuál es el resto de la división de las dos alturas.\n",
    "print (altura1 % altura2)\n",
    "\n",
    "#Cuál es resultado de la división de las dos alturas, redondead el resultado a un decimal.\n",
    "print(round(altura1/altura2 , 1))\n"
   ]
  },
  {
   "cell_type": "code",
   "execution_count": 6,
   "metadata": {},
   "outputs": [
    {
     "name": "stdout",
     "output_type": "stream",
     "text": [
      "¿cual es su nombre y apellido? \n",
      "anahi morales\n"
     ]
    }
   ],
   "source": [
    "#3) Escribid un programa usando la función input() que le pregunte al usuario su nombre y apellidos. \n",
    "\n",
    "nombre = input ('¿cual es su nombre y apellido? ')\n",
    "print ('¿cual es su nombre y apellido? ')\n",
    "print (nombre)\n",
    "\n",
    "\n"
   ]
  },
  {
   "cell_type": "code",
   "execution_count": 7,
   "metadata": {},
   "outputs": [
    {
     "name": "stdout",
     "output_type": "stream",
     "text": [
      "ANAHI MORALES\n",
      "anahi morales\n",
      "Anahi Morales\n",
      "Anahi morales\n"
     ]
    }
   ],
   "source": [
    "#3.1) Una vez que tengamos el nombre del usuario:\n",
    "\n",
    "#Printead su nombre y apellidos todo en mayúsculas.\n",
    "print (nombre.upper())\n",
    "\n",
    "#Printead su nombre y apellidos todo en minúsculas.\n",
    "print (nombre.lower())\n",
    "\n",
    "#Printead su nombre y apellidos con la primera letra del nombre y los apellidos en mayúscula y el resto en minúscula.\n",
    "print (nombre.title())\n",
    "\n",
    "#Printeas solo la primera letra del nombre en mayúscula.\n",
    "print (nombre.capitalize())"
   ]
  },
  {
   "cell_type": "code",
   "execution_count": 8,
   "metadata": {},
   "outputs": [
    {
     "name": "stdout",
     "output_type": "stream",
     "text": [
      "soleado\n",
      "e\n",
      "I\n"
     ]
    }
   ],
   "source": [
    "#4)Escribid un programa usando la función input() que:\n",
    "\n",
    "#Le pregunte al usuario por una frase, almacenad este resultado en una variable.\n",
    "variable1 = input (\"¿Qué tiempo hace hoy?: \")\n",
    "print (variable1)\n",
    "\n",
    "#Le pregunte al usuario por una vocal, almacenad este resultado en una variable.\n",
    "variable2 = input (\"Dime una vocal \")\n",
    "print (variable2)\n",
    "\n",
    "#Printead la misma frase pero con la vocal introducida en mayúsulas.\n",
    "variable3 = input (\"Dime una vocal \")\n",
    "print (variable3.upper())"
   ]
  },
  {
   "cell_type": "code",
   "execution_count": 18,
   "metadata": {},
   "outputs": [
    {
     "name": "stdout",
     "output_type": "stream",
     "text": [
      "['peras', 'manzanas', 'naranjas']\n",
      "peras\n",
      "manzanas\n",
      "naranjas\n"
     ]
    }
   ],
   "source": [
    "#5)Escribid un programa usando la función input() que:\n",
    "\n",
    "#Le pregunte al usuario por la lista de la compra, separando cada elemento por comas.\n",
    "lista = input (\"La lista de la compra\")\n",
    "lista_separada = lista. split()\n",
    "print (lista_separada)\n",
    "\n",
    "#Devolved la lista de compra donde veamos cada elemento en una línea.\n",
    "lista_en_lineas = \"\\n\".join (lista_separada)\n",
    "print (lista_en_lineas)"
   ]
  }
 ],
 "metadata": {
  "kernelspec": {
   "display_name": "Python 3.8.9 64-bit",
   "language": "python",
   "name": "python3"
  },
  "language_info": {
   "codemirror_mode": {
    "name": "ipython",
    "version": 3
   },
   "file_extension": ".py",
   "mimetype": "text/x-python",
   "name": "python",
   "nbconvert_exporter": "python",
   "pygments_lexer": "ipython3",
   "version": "3.8.9"
  },
  "orig_nbformat": 4,
  "vscode": {
   "interpreter": {
    "hash": "31f2aee4e71d21fbe5cf8b01ff0e069b9275f58929596ceb00d14d90e3e16cd6"
   }
  }
 },
 "nbformat": 4,
 "nbformat_minor": 2
}
