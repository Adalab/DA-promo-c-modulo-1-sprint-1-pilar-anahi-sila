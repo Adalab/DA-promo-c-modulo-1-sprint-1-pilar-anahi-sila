{
 "cells": [
  {
   "cell_type": "markdown",
   "metadata": {},
   "source": [
    " # DICCIONARIOS #"
   ]
  },
  {
   "cell_type": "code",
   "execution_count": 10,
   "metadata": {},
   "outputs": [],
   "source": [
    "#1)Nuestro diccionario estará compuesto por: Cuatro keys que serán:\n",
    "#nombres\n",
    "#apellidos\n",
    "#edades\n",
    "#hijos\n",
    "\n",
    "diccionario = {\"nombres\": [] , \"apellidos\": [], \"edades\": [], \"hijos\": []}\n"
   ]
  },
  {
   "cell_type": "code",
   "execution_count": 11,
   "metadata": {},
   "outputs": [
    {
     "data": {
      "text/plain": [
       "['Lara', 'Alejandro', 'Ana']"
      ]
     },
     "execution_count": 11,
     "metadata": {},
     "output_type": "execute_result"
    }
   ],
   "source": [
    "#Cada una de las keys tendrá un value que será una lista que iremos construyendo con inputs. \n",
    "#2)Cread un input que pregunte a la usuaria por tres nombres. \n",
    "#Almacenad el resultado en una lista. Esta lista será el value de la key nombres\n",
    "\n",
    "nombres = input ('Dime tres nombres: ').split()\n",
    "nombres"
   ]
  },
  {
   "cell_type": "code",
   "execution_count": 12,
   "metadata": {},
   "outputs": [
    {
     "data": {
      "text/plain": [
       "['Lopez', 'Martin', 'Solo']"
      ]
     },
     "execution_count": 12,
     "metadata": {},
     "output_type": "execute_result"
    }
   ],
   "source": [
    "#3)Cread un input que pregunte a la usuaria por tres apellidos. \n",
    "# Convertir el resultado en lista y este será el value de la key apellidos.\n",
    "\n",
    "apellidos = input ('Dime tres apellidos: ').split()\n",
    "apellidos\n",
    "\n"
   ]
  },
  {
   "cell_type": "code",
   "execution_count": 55,
   "metadata": {},
   "outputs": [],
   "source": [
    "#4)Cread un input que pregunte a la usuaria por tres edades. Almancenad los resultados en una lista. \n",
    "# Esta lista será el value de la key edades.\n",
    "\n",
    "edades = input('Dime tres edades:')\n",
    "lista_edades_str = edades.split()\n",
    "lista_edades = []\n",
    "lista_edades.append(int(lista_edades_str[0]))\n",
    "lista_edades.append(int(lista_edades_str[1]))\n",
    "lista_edades.append(int(lista_edades_str[2]))"
   ]
  },
  {
   "cell_type": "code",
   "execution_count": 56,
   "metadata": {},
   "outputs": [],
   "source": [
    "#5)Cread un input que pregunte a la usuaria por el número de hijos. Almacenad este resultado en una lista. \n",
    "# Esta lista será el value de la key hijos.\n",
    "\n",
    "hijos = input ('Dime numero de hijos: ')\n",
    "lista_hijos_str = hijos.split()\n",
    "lista_hijos = []\n",
    "lista_hijos.append(int(lista_hijos_str[0]))\n",
    "lista_hijos.append(int(lista_hijos_str[1]))\n",
    "lista_hijos.append(int(lista_hijos_str[2]))"
   ]
  },
  {
   "cell_type": "code",
   "execution_count": 57,
   "metadata": {},
   "outputs": [
    {
     "data": {
      "text/plain": [
       "{'nombres': ['Lara', 'Alejandro', 'Ana'],\n",
       " 'apellidos': ['Lopez', 'Martin', 'Solo'],\n",
       " 'edades': [34, 20, 28],\n",
       " 'hijos': [2, 0, 1],\n",
       " 'hermanos': [1, 2, 0]}"
      ]
     },
     "execution_count": 57,
     "metadata": {},
     "output_type": "execute_result"
    }
   ],
   "source": [
    "#6)Cread un diccionario con los resultados del input. \n",
    "# Al final de todos estos pasos deberíamos tener un diccionario similar a este:\n",
    "# {'nombres': ['Lara', ' Alejandro', ' Ana'],'apellidos': ['Lopez', ' Martin', ' Solo'],'edades': [34, 20, 28],'hijos': [2, 0, 1]}\n",
    "\n",
    "# diccionario.update({\"nombres\" : nombres_respuestas})\n",
    "diccionario[\"nombres\"] = nombres\n",
    "diccionario[\"apellidos\"] = apellidos\n",
    "diccionario[\"edades\"] = lista_edades\n",
    "diccionario[\"hijos\"] = lista_hijos\n",
    "diccionario"
   ]
  },
  {
   "cell_type": "code",
   "execution_count": 58,
   "metadata": {},
   "outputs": [
    {
     "data": {
      "text/plain": [
       "{'nombres': ['Lara', 'Alejandro', 'Ana'],\n",
       " 'apellidos': ['Lopez', 'Martin', 'Solo'],\n",
       " 'edades': [34, 20, 28],\n",
       " 'hijos': [2, 0, 1],\n",
       " 'hermanos': [1, 0, 2]}"
      ]
     },
     "execution_count": 58,
     "metadata": {},
     "output_type": "execute_result"
    }
   ],
   "source": [
    "#7)Una vez tengáis creado el diccionario, añadid una nueva key donde tengamos la información sobre el número de hermanos.\n",
    "\n",
    "hermanos = input('Dime cuantos hermanos tienes: ')\n",
    "\n",
    "lista_hermanos_str = hermanos.split()\n",
    "lista_hermanos = []\n",
    "lista_hermanos.append(int(lista_hermanos_str[0]))\n",
    "lista_hermanos.append(int(lista_hermanos_str[1]))\n",
    "lista_hermanos.append(int(lista_hermanos_str[2]))\n",
    "\n",
    "diccionario [\"hermanos\"] = lista_hermanos\n",
    "diccionario"
   ]
  },
  {
   "cell_type": "code",
   "execution_count": 20,
   "metadata": {},
   "outputs": [
    {
     "name": "stdout",
     "output_type": "stream",
     "text": [
      "dict_keys(['nombres', 'apellidos', 'edades', 'hijos', 'hermanos'])\n",
      "dict_values([['Lara', 'Alejandro', 'Ana'], ['Lopez', 'Martin', 'Solo'], [34, 20, 28], [2, 0, 1], [1, 2, 0]])\n"
     ]
    }
   ],
   "source": [
    "#4.1)¿Cúales son las keys de nuestro diccionario? ¿Y los values?.\n",
    "\n",
    "print(diccionario.keys())\n",
    "print(diccionario.values())"
   ]
  },
  {
   "cell_type": "code",
   "execution_count": 21,
   "metadata": {},
   "outputs": [
    {
     "name": "stdout",
     "output_type": "stream",
     "text": [
      "['Lara', 'Alejandro', 'Ana']\n",
      "['Lara', 'Alejandro', 'Ana']\n"
     ]
    }
   ],
   "source": [
    "#4.2)Extraed los valores de la key nombres. Utilizad dos métodos diferentes.\n",
    "\n",
    "print(diccionario[\"nombres\"])\n",
    "print(diccionario.get(\"nombres\"))"
   ]
  },
  {
   "cell_type": "code",
   "execution_count": 42,
   "metadata": {},
   "outputs": [
    {
     "data": {
      "text/plain": [
       "'desconocida'"
      ]
     },
     "execution_count": 42,
     "metadata": {},
     "output_type": "execute_result"
    }
   ],
   "source": [
    "#4.3)Extraed los valores de la key nacionalidad. En caso de que no exista, cread esa key con el value \"desconocida\".\n",
    "\n",
    "diccionario.setdefault(\"nacionalidad\", \"desconocida\")"
   ]
  },
  {
   "cell_type": "code",
   "execution_count": 43,
   "metadata": {},
   "outputs": [
    {
     "data": {
      "text/plain": [
       "[('apellidos', ['Lopez', 'Martin', 'Solo']),\n",
       " ('edades', [34, 20, 28]),\n",
       " ('hermanos', [1, 2, 0]),\n",
       " ('hijos', [2, 0, 1]),\n",
       " ('nacionalidad', 'desconocida'),\n",
       " ('nombres', ['Lara', 'Alejandro', 'Ana'])]"
      ]
     },
     "execution_count": 43,
     "metadata": {},
     "output_type": "execute_result"
    }
   ],
   "source": [
    "#4.4)Ordena los elementos del diccionario basandonos en las keys y los values. \n",
    "#Esto nos devuelve una lista de tuplas(todavía no hemos visto este tipo de datos, \n",
    "# pero lo veremos en la lección de mañana). Convertid esta lista de tuplas en diccionario.\n",
    "\n",
    "diccionario1 = sorted(diccionario.items())\n",
    "diccionario1\n"
   ]
  },
  {
   "cell_type": "code",
   "execution_count": 44,
   "metadata": {},
   "outputs": [
    {
     "data": {
      "text/plain": [
       "{'apellidos': ['Lopez', 'Martin', 'Solo'],\n",
       " 'edades': [34, 20, 28],\n",
       " 'hermanos': [1, 2, 0],\n",
       " 'hijos': [2, 0, 1],\n",
       " 'nacionalidad': 'desconocida',\n",
       " 'nombres': ['Lara', 'Alejandro', 'Ana']}"
      ]
     },
     "execution_count": 44,
     "metadata": {},
     "output_type": "execute_result"
    }
   ],
   "source": [
    "# Convertid esta lista de tuplas en diccionario.\n",
    "lista_tuplas_diccionario = dict(diccionario1)\n",
    "lista_tuplas_diccionario"
   ]
  },
  {
   "cell_type": "code",
   "execution_count": 45,
   "metadata": {},
   "outputs": [
    {
     "data": {
      "text/plain": [
       "'desconocida'"
      ]
     },
     "execution_count": 45,
     "metadata": {},
     "output_type": "execute_result"
    }
   ],
   "source": [
    "#4.5)Eliminad la key de \"nacionalidad\"\n",
    "diccionario.pop(\"nacionalidad\")"
   ]
  },
  {
   "cell_type": "code",
   "execution_count": 46,
   "metadata": {},
   "outputs": [
    {
     "data": {
      "text/plain": [
       "{'nombres': ['Lara', 'Alejandro', 'Ana'],\n",
       " 'apellidos': ['Lopez', 'Martin', 'Solo'],\n",
       " 'edades': [34, 20, 28],\n",
       " 'hijos': [2, 0, 1],\n",
       " 'hermanos': [1, 2, 0]}"
      ]
     },
     "execution_count": 46,
     "metadata": {},
     "output_type": "execute_result"
    }
   ],
   "source": [
    "#Verificamos que se elimino nacionalidad\n",
    "diccionario"
   ]
  },
  {
   "cell_type": "code",
   "execution_count": 47,
   "metadata": {},
   "outputs": [
    {
     "data": {
      "text/plain": [
       "'Lara'"
      ]
     },
     "execution_count": 47,
     "metadata": {},
     "output_type": "execute_result"
    }
   ],
   "source": [
    "#4.6)Utilizando métodos de Python. ¿Qué persona tiene mayor número de hijos? \n",
    "\n",
    "diccionario.get('nombres')[hijos.index(max(hijos))]\n"
   ]
  },
  {
   "cell_type": "code",
   "execution_count": 15,
   "metadata": {},
   "outputs": [
    {
     "data": {
      "text/plain": [
       "['Lara']"
      ]
     },
     "execution_count": 15,
     "metadata": {},
     "output_type": "execute_result"
    }
   ],
   "source": [
    "#otra opcion que encotramos fue:\n",
    "#(en este caso solo usamos values, no llaves)\n",
    "\n",
    "nombres_respuestas [(hijos_respuestas.index(max(hijos_respuestas))):(hijos_respuestas.index(max(hijos_respuestas)))+1]"
   ]
  },
  {
   "cell_type": "code",
   "execution_count": 68,
   "metadata": {},
   "outputs": [
    {
     "data": {
      "text/plain": [
       "'Ana'"
      ]
     },
     "execution_count": 68,
     "metadata": {},
     "output_type": "execute_result"
    }
   ],
   "source": [
    "#4.7)¿Y quién es la más joven?\n",
    "\n",
    "diccionario.get(\"nombres\")[edades.index(min(edades))]"
   ]
  }
 ],
 "metadata": {
  "kernelspec": {
   "display_name": "Python 3.9.7 ('base')",
   "language": "python",
   "name": "python3"
  },
  "language_info": {
   "codemirror_mode": {
    "name": "ipython",
    "version": 3
   },
   "file_extension": ".py",
   "mimetype": "text/x-python",
   "name": "python",
   "nbconvert_exporter": "python",
   "pygments_lexer": "ipython3",
   "version": "3.9.7"
  },
  "orig_nbformat": 4,
  "vscode": {
   "interpreter": {
    "hash": "6e8aefa1bb798882dbdb84db5119449300b1df017c6fd8f01a2c188a17dff6eb"
   }
  }
 },
 "nbformat": 4,
 "nbformat_minor": 2
}
