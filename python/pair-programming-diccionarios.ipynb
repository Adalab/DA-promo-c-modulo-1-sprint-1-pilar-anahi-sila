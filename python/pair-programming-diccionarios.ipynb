{
 "cells": [
  {
   "cell_type": "code",
   "execution_count": 16,
   "metadata": {},
   "outputs": [],
   "source": [
    "#En el pair programming de hoy trabajaremos con diccionarios. \n",
    "# El objetivo es poner en práctica todos los métodos aprendidos hasta el momento. \n",
    "# Para ello lo primero que haremos será contruir un diccionario paso a paso. \n",
    "# Nuestro diccionario estará compuesto por:\n",
    "#Cuatro keys que serán:\n",
    "#nombres\n",
    "#apellidos\n",
    "#edades\n",
    "#hijos\n",
    "\n",
    "diccionario = {\"nombres\": \" \", \"apellidos\": \" \", \"edades\": \" \" , \"hijos\": \" \"}\n"
   ]
  },
  {
   "cell_type": "code",
   "execution_count": 5,
   "metadata": {},
   "outputs": [
    {
     "data": {
      "text/plain": [
       "['Lara, Alejandro; Ana']"
      ]
     },
     "execution_count": 5,
     "metadata": {},
     "output_type": "execute_result"
    }
   ],
   "source": [
    "#Cada una de las keys tendrá un value que será una lista que iremos construyendo con inputs. \n",
    "# Para crear los values seguid los pasos que os indicamos a continuación.\n",
    "#Cread un input que pregunte a la usuaria por tres nombres. \n",
    "# Almacenad el resultado en una lista. Esta lista será el value de la key nombres\n",
    "nombres_respuestas = [input(\"Dame tres nombres \")]\n",
    "nombres_respuestas"
   ]
  },
  {
   "cell_type": "code",
   "execution_count": 9,
   "metadata": {},
   "outputs": [
    {
     "data": {
      "text/plain": [
       "['Lopez, Martin, Solo']"
      ]
     },
     "execution_count": 9,
     "metadata": {},
     "output_type": "execute_result"
    }
   ],
   "source": [
    "#Cread un input que pregunte a la usuaria por tres apellidos. \n",
    "# Convertir el resultado en lista y este será el value de la key apellidos.\n",
    "apellidos_respuestas = [input(\"Dame tres apellidos \")]\n",
    "apellidos_respuestas"
   ]
  },
  {
   "cell_type": "code",
   "execution_count": 11,
   "metadata": {},
   "outputs": [
    {
     "data": {
      "text/plain": [
       "['34, 20, 28']"
      ]
     },
     "execution_count": 11,
     "metadata": {},
     "output_type": "execute_result"
    }
   ],
   "source": [
    "#Cread un input que pregunte a la usuaria por tres edades. Almancenad los resultados en una lista. \n",
    "# Esta lista será el value de la key edades.\n",
    "edades_respuestas = [input(\"Dame tres edades \")]\n",
    "edades_respuestas"
   ]
  },
  {
   "cell_type": "code",
   "execution_count": 12,
   "metadata": {},
   "outputs": [
    {
     "data": {
      "text/plain": [
       "['2, 0, 1']"
      ]
     },
     "execution_count": 12,
     "metadata": {},
     "output_type": "execute_result"
    }
   ],
   "source": [
    "#Cread un input que pregunte a la usuaria por el número de hijos. Almacenad este resultado en una lista. \n",
    "# Esta lista será el value de la key hijos.\n",
    "hijos_respuestas = [input(\"Dime número de hijos \")]\n",
    "hijos_respuestas"
   ]
  },
  {
   "cell_type": "code",
   "execution_count": 22,
   "metadata": {},
   "outputs": [
    {
     "data": {
      "text/plain": [
       "{'nombres': ['Lara, Alejandro; Ana'],\n",
       " 'apellidos': ['Lopez, Martin, Solo'],\n",
       " 'edades': ['34, 20, 28'],\n",
       " 'hijos': ['2, 0, 1']}"
      ]
     },
     "execution_count": 22,
     "metadata": {},
     "output_type": "execute_result"
    }
   ],
   "source": [
    "#Cread un diccionario con los resultados del input. \n",
    "# Al final de todos estos pasos deberíamos tener un diccionario similar a este:\n",
    "#{'nombres': ['Lara', ' Alejandro', ' Ana'],\n",
    "  #'apellidos': ['Lopez', ' Martin', ' Solo'],\n",
    "  #'edades': [34, 20, 28],\n",
    "  #'hijos': [2, 0, 1]}\n",
    "\n",
    "# diccionario.update({\"nombres\" : nombres_respuestas})\n",
    "diccionario[\"nombres\"] = nombres_respuestas\n",
    "diccionario[\"apellidos\"] = apellidos_respuestas\n",
    "diccionario[\"edades\"] = edades_respuestas\n",
    "diccionario[\"hijos\"] = hijos_respuestas\n",
    "diccionario"
   ]
  },
  {
   "cell_type": "code",
   "execution_count": 25,
   "metadata": {},
   "outputs": [
    {
     "data": {
      "text/plain": [
       "{'nombres': ['Lara, Alejandro; Ana'],\n",
       " 'apellidos': ['Lopez, Martin, Solo'],\n",
       " 'edades': ['34, 20, 28'],\n",
       " 'hijos': ['2, 0, 1'],\n",
       " 'hermanos': ['3, 2, 1']}"
      ]
     },
     "execution_count": 25,
     "metadata": {},
     "output_type": "execute_result"
    }
   ],
   "source": [
    "#Una vez tengáis creado el diccionario, añadid una nueva key donde tengamos la información \n",
    "# sobre el número de hermanos.\n",
    "numeros_hermanos = [input(\"Dime número de hermanos \")]\n",
    "diccionario[\"hermanos\"] = numeros_hermanos\n",
    "diccionario"
   ]
  },
  {
   "cell_type": "code",
   "execution_count": 28,
   "metadata": {},
   "outputs": [
    {
     "name": "stdout",
     "output_type": "stream",
     "text": [
      "dict_keys(['nombres', 'apellidos', 'edades', 'hijos', 'hermanos'])\n",
      "dict_values([['Lara, Alejandro; Ana'], ['Lopez, Martin, Solo'], ['34, 20, 28'], ['2, 0, 1'], ['3, 2, 1']])\n"
     ]
    }
   ],
   "source": [
    "#¿Cúales son las keys de nuestro diccionario? ¿Y los values?\n",
    "print(diccionario.keys())\n",
    "print(diccionario.values())"
   ]
  },
  {
   "cell_type": "code",
   "execution_count": 38,
   "metadata": {},
   "outputs": [
    {
     "name": "stdout",
     "output_type": "stream",
     "text": [
      "['Lara, Alejandro; Ana']\n",
      "['Lara, Alejandro; Ana']\n"
     ]
    }
   ],
   "source": [
    "#Para extraer los values de una key podemos hacerlo de varias formas.\n",
    "#Extraed los valores de la key nombres. Utilizad dos métodos diferentes.\n",
    "print(diccionario[\"nombres\"])\n",
    "print(diccionario.get(\"nombres\"))"
   ]
  },
  {
   "cell_type": "code",
   "execution_count": 41,
   "metadata": {},
   "outputs": [
    {
     "data": {
      "text/plain": [
       "'desconocida'"
      ]
     },
     "execution_count": 41,
     "metadata": {},
     "output_type": "execute_result"
    }
   ],
   "source": [
    "#Extraed los valores de la key nacionalidad. \n",
    "# En caso de que no exista, cread esa key con el value \"desconocida\".\n",
    "diccionario.setdefault(\"nacionalidad\", \"desconocida\")"
   ]
  },
  {
   "cell_type": "code",
   "execution_count": 47,
   "metadata": {},
   "outputs": [
    {
     "data": {
      "text/plain": [
       "[('apellidos', ['Lopez, Martin, Solo']),\n",
       " ('edades', ['34, 20, 28']),\n",
       " ('hermanos', ['3, 2, 1']),\n",
       " ('hijos', ['2, 0, 1']),\n",
       " ('nacionalidad', 'desconocida'),\n",
       " ('nombres', ['Lara, Alejandro; Ana'])]"
      ]
     },
     "execution_count": 47,
     "metadata": {},
     "output_type": "execute_result"
    }
   ],
   "source": [
    "#Ordena los elementos del diccionario basandonos en las keys y los values. \n",
    "# Esto nos devuelve una lista de tuplas(todavía no hemos visto este tipo de datos, \n",
    "# pero lo veremos en la lección de mañana). \n",
    "# Convertid esta lista de tuplas en diccionario.\n",
    "diccionario1 = sorted(diccionario.items())\n",
    "diccionario1\n"
   ]
  },
  {
   "cell_type": "code",
   "execution_count": 49,
   "metadata": {},
   "outputs": [
    {
     "data": {
      "text/plain": [
       "'desconocida'"
      ]
     },
     "execution_count": 49,
     "metadata": {},
     "output_type": "execute_result"
    }
   ],
   "source": [
    "#Eliminad la key de \"nacionalidad\"\n",
    "diccionario.pop(\"nacionalidad\")"
   ]
  },
  {
   "cell_type": "code",
   "execution_count": 50,
   "metadata": {},
   "outputs": [
    {
     "data": {
      "text/plain": [
       "{'nombres': ['Lara, Alejandro; Ana'],\n",
       " 'apellidos': ['Lopez, Martin, Solo'],\n",
       " 'edades': ['34, 20, 28'],\n",
       " 'hijos': ['2, 0, 1'],\n",
       " 'hermanos': ['3, 2, 1']}"
      ]
     },
     "execution_count": 50,
     "metadata": {},
     "output_type": "execute_result"
    }
   ],
   "source": [
    "diccionario"
   ]
  },
  {
   "cell_type": "code",
   "execution_count": 63,
   "metadata": {},
   "outputs": [
    {
     "name": "stdout",
     "output_type": "stream",
     "text": [
      "None\n",
      "2, 0, 1\n"
     ]
    }
   ],
   "source": [
    "#Utilizando métodos de Python. ¿Qué persona tiene mayor nuúmero de hijos? ¿Y quién es la más joven?\n",
    "#print(max(diccionario[\"hijos\"]))\n",
    "print(diccionario.get(max(\"hijos_respuestas\")))\n",
    "#print(max(diccionario.get(\"hijos\")))"
   ]
  },
  {
   "cell_type": "code",
   "execution_count": null,
   "metadata": {},
   "outputs": [],
   "source": []
  }
 ],
 "metadata": {
  "kernelspec": {
   "display_name": "Python 3.9.7 ('base')",
   "language": "python",
   "name": "python3"
  },
  "language_info": {
   "codemirror_mode": {
    "name": "ipython",
    "version": 3
   },
   "file_extension": ".py",
   "mimetype": "text/x-python",
   "name": "python",
   "nbconvert_exporter": "python",
   "pygments_lexer": "ipython3",
   "version": "3.9.7"
  },
  "orig_nbformat": 4,
  "vscode": {
   "interpreter": {
    "hash": "6e8aefa1bb798882dbdb84db5119449300b1df017c6fd8f01a2c188a17dff6eb"
   }
  }
 },
 "nbformat": 4,
 "nbformat_minor": 2
}
