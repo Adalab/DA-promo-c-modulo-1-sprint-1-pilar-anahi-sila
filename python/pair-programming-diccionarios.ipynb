{
 "cells": [
  {
   "cell_type": "markdown",
   "metadata": {},
   "source": [
    " # DICCIONARIOS #"
   ]
  },
  {
   "cell_type": "code",
   "execution_count": 1,
   "metadata": {},
   "outputs": [],
   "source": [
    "#1)Nuestro diccionario estará compuesto por: Cuatro keys que serán:\n",
    "#nombres\n",
    "#apellidos\n",
    "#edades\n",
    "#hijos\n",
    "\n",
    "diccionario = {\"nombres\" : [] , \"apellidos\": [], \"edades\": [], \"hijos\": []}\n"
   ]
  },
  {
   "cell_type": "code",
   "execution_count": 2,
   "metadata": {},
   "outputs": [
    {
     "data": {
      "text/plain": [
       "['Lara', 'Alejandro', 'Ana']"
      ]
     },
     "execution_count": 2,
     "metadata": {},
     "output_type": "execute_result"
    }
   ],
   "source": [
    "#2)Cada una de las keys tendrá un value que será una lista que iremos construyendo con inputs. \n",
    "#2.1)Cread un input que pregunte a la usuaria por tres nombres. \n",
    "#Almacenad el resultado en una lista. Esta lista será el value de la key nombres\n",
    "\n",
    "nombre1= input ('Dime tú nombre')\n",
    "nombre2= input ('Dime tú nombre')\n",
    "nombre3= input ('Dime tú nombre')\n",
    "\n",
    "nombres_respuestas = [nombre1,nombre2,nombre3]\n",
    "nombres_respuestas"
   ]
  },
  {
   "cell_type": "code",
   "execution_count": 3,
   "metadata": {},
   "outputs": [
    {
     "data": {
      "text/plain": [
       "['Lopez', 'Martin', 'Solo']"
      ]
     },
     "execution_count": 3,
     "metadata": {},
     "output_type": "execute_result"
    }
   ],
   "source": [
    "#2.2)Cread un input que pregunte a la usuaria por tres apellidos. \n",
    "# Convertir el resultado en lista y este será el value de la key apellidos.\n",
    "\n",
    "apellido1= input ('Dime tú apellido')\n",
    "apellido2= input ('Dime tú apellido')\n",
    "apellido3= input ('Dime tú apellido')\n",
    "\n",
    "apellidos_respuestas = [apellido1,apellido2,apellido3]\n",
    "apellidos_respuestas\n",
    "\n"
   ]
  },
  {
   "cell_type": "code",
   "execution_count": 4,
   "metadata": {},
   "outputs": [
    {
     "data": {
      "text/plain": [
       "[34, 20, 28]"
      ]
     },
     "execution_count": 4,
     "metadata": {},
     "output_type": "execute_result"
    }
   ],
   "source": [
    "#2.3)Cread un input que pregunte a la usuaria por tres edades. Almancenad los resultados en una lista. \n",
    "# Esta lista será el value de la key edades.\n",
    "\n",
    "edad1= input ('Dime tu edad')\n",
    "edad1= int(edad1)\n",
    "edad2= input ('Dime tu edad')\n",
    "edad2= int(edad2)\n",
    "edad3= input ('Dime tu edad')\n",
    "edad3 = int (edad3)\n",
    "\n",
    "edades_respuestas =[edad1, edad2,edad3]\n",
    "edades_respuestas"
   ]
  },
  {
   "cell_type": "code",
   "execution_count": 5,
   "metadata": {},
   "outputs": [
    {
     "data": {
      "text/plain": [
       "[2, 0, 1]"
      ]
     },
     "execution_count": 5,
     "metadata": {},
     "output_type": "execute_result"
    }
   ],
   "source": [
    "#2.4)Cread un input que pregunte a la usuaria por el número de hijos. Almacenad este resultado en una lista. \n",
    "# Esta lista será el value de la key hijos.\n",
    "\n",
    "hijo1= input ('Dime cuantos hijos tienes')\n",
    "hijo1= int(hijo1)\n",
    "hijo2= input ('Dime cuantos hijos tienes')\n",
    "hijo2= int(hijo2)\n",
    "hijo3= input ('Dime cuantos hijos tienes')\n",
    "hijo3 = int (hijo3)\n",
    "\n",
    "hijos_respuestas =[hijo1,hijo2,hijo3]\n",
    "hijos_respuestas"
   ]
  },
  {
   "cell_type": "code",
   "execution_count": 6,
   "metadata": {},
   "outputs": [
    {
     "data": {
      "text/plain": [
       "{'nombres': ['Lara', 'Alejandro', 'Ana'],\n",
       " 'apellidos': ['Lopez', 'Martin', 'Solo'],\n",
       " 'edades': [34, 20, 28],\n",
       " 'hijos': [2, 0, 1]}"
      ]
     },
     "execution_count": 6,
     "metadata": {},
     "output_type": "execute_result"
    }
   ],
   "source": [
    "#3)Cread un diccionario con los resultados del input. \n",
    "# Al final de todos estos pasos deberíamos tener un diccionario similar a este:\n",
    "# {'nombres': ['Lara', ' Alejandro', ' Ana'],'apellidos': ['Lopez', ' Martin', ' Solo'],'edades': [34, 20, 28],'hijos': [2, 0, 1]}\n",
    "\n",
    "# diccionario.update({\"nombres\" : nombres_respuestas})\n",
    "diccionario[\"nombres\"] = nombres_respuestas\n",
    "diccionario[\"apellidos\"] = apellidos_respuestas\n",
    "diccionario[\"edades\"] = edades_respuestas\n",
    "diccionario[\"hijos\"] = hijos_respuestas\n",
    "diccionario"
   ]
  },
  {
   "cell_type": "code",
   "execution_count": 7,
   "metadata": {},
   "outputs": [
    {
     "data": {
      "text/plain": [
       "{'nombres': ['Lara', 'Alejandro', 'Ana'],\n",
       " 'apellidos': ['Lopez', 'Martin', 'Solo'],\n",
       " 'edades': [34, 20, 28],\n",
       " 'hijos': [2, 0, 1],\n",
       " 'hermanos': [2, 3, 1]}"
      ]
     },
     "execution_count": 7,
     "metadata": {},
     "output_type": "execute_result"
    }
   ],
   "source": [
    "#4)Una vez tengáis creado el diccionario, añadid una nueva key donde tengamos la información sobre el número de hermanos.\n",
    "\n",
    "hermanos1= input ('Dime cuantos hermanos tienes')\n",
    "hermanos1= int(hermanos1)\n",
    "hermanos2= input ('Dime cuantos hermanos tienes')\n",
    "hermanos2= int(hermanos2)\n",
    "hermanos3= input ('Dime cuantos hermanos tienes')\n",
    "hermanos3 = int (hermanos3)\n",
    "\n",
    "hermanos_respuestas =[hermanos1,hermanos2,hermanos3]\n",
    "\n",
    "diccionario ['hermanos'] = hermanos_respuestas\n",
    "diccionario"
   ]
  },
  {
   "cell_type": "code",
   "execution_count": 8,
   "metadata": {},
   "outputs": [
    {
     "name": "stdout",
     "output_type": "stream",
     "text": [
      "dict_keys(['nombres', 'apellidos', 'edades', 'hijos', 'hermanos'])\n",
      "dict_values([['Lara', 'Alejandro', 'Ana'], ['Lopez', 'Martin', 'Solo'], [34, 20, 28], [2, 0, 1], [2, 3, 1]])\n"
     ]
    }
   ],
   "source": [
    "#4.1)¿Cúales son las keys de nuestro diccionario? ¿Y los values?.\n",
    "\n",
    "print(diccionario.keys())\n",
    "print(diccionario.values())"
   ]
  },
  {
   "cell_type": "code",
   "execution_count": 9,
   "metadata": {},
   "outputs": [
    {
     "name": "stdout",
     "output_type": "stream",
     "text": [
      "['Lara', 'Alejandro', 'Ana']\n",
      "['Lara', 'Alejandro', 'Ana']\n"
     ]
    }
   ],
   "source": [
    "#4.2)Extraed los valores de la key nombres. Utilizad dos métodos diferentes.\n",
    "\n",
    "print(diccionario[\"nombres\"])\n",
    "print(diccionario.get(\"nombres\"))"
   ]
  },
  {
   "cell_type": "code",
   "execution_count": 10,
   "metadata": {},
   "outputs": [
    {
     "data": {
      "text/plain": [
       "'desconocida'"
      ]
     },
     "execution_count": 10,
     "metadata": {},
     "output_type": "execute_result"
    }
   ],
   "source": [
    "#4.3)Extraed los valores de la key nacionalidad. En caso de que no exista, cread esa key con el value \"desconocida\".\n",
    "\n",
    "diccionario.setdefault(\"nacionalidad\", \"desconocida\")"
   ]
  },
  {
   "cell_type": "code",
   "execution_count": 11,
   "metadata": {},
   "outputs": [
    {
     "data": {
      "text/plain": [
       "[('apellidos', ['Lopez', 'Martin', 'Solo']),\n",
       " ('edades', [34, 20, 28]),\n",
       " ('hermanos', [2, 3, 1]),\n",
       " ('hijos', [2, 0, 1]),\n",
       " ('nacionalidad', 'desconocida'),\n",
       " ('nombres', ['Lara', 'Alejandro', 'Ana'])]"
      ]
     },
     "execution_count": 11,
     "metadata": {},
     "output_type": "execute_result"
    }
   ],
   "source": [
    "#4.4)Ordena los elementos del diccionario basandonos en las keys y los values. \n",
    "# Esto nos devuelve una lista de tuplas. \n",
    "\n",
    "diccionario1 = sorted(diccionario.items())\n",
    "diccionario1\n"
   ]
  },
  {
   "cell_type": "code",
   "execution_count": 12,
   "metadata": {},
   "outputs": [
    {
     "data": {
      "text/plain": [
       "'desconocida'"
      ]
     },
     "execution_count": 12,
     "metadata": {},
     "output_type": "execute_result"
    }
   ],
   "source": [
    "#4.5)Eliminad la key de \"nacionalidad\"\n",
    "diccionario.pop(\"nacionalidad\")"
   ]
  },
  {
   "cell_type": "code",
   "execution_count": 13,
   "metadata": {},
   "outputs": [
    {
     "data": {
      "text/plain": [
       "{'nombres': ['Lara', 'Alejandro', 'Ana'],\n",
       " 'apellidos': ['Lopez', 'Martin', 'Solo'],\n",
       " 'edades': [34, 20, 28],\n",
       " 'hijos': [2, 0, 1],\n",
       " 'hermanos': [2, 3, 1]}"
      ]
     },
     "execution_count": 13,
     "metadata": {},
     "output_type": "execute_result"
    }
   ],
   "source": [
    "#Verificamos que se elimino nacionalidad\n",
    "diccionario"
   ]
  },
  {
   "cell_type": "code",
   "execution_count": 14,
   "metadata": {},
   "outputs": [
    {
     "data": {
      "text/plain": [
       "'Lara'"
      ]
     },
     "execution_count": 14,
     "metadata": {},
     "output_type": "execute_result"
    }
   ],
   "source": [
    "#4.6)Utilizando métodos de Python. ¿Qué persona tiene mayor nuúmero de hijos? \n",
    "\n",
    "diccionario.get('nombres')[ hijos_respuestas.index(max(hijos_respuestas))]\n"
   ]
  },
  {
   "cell_type": "code",
   "execution_count": 15,
   "metadata": {},
   "outputs": [
    {
     "data": {
      "text/plain": [
       "['Lara']"
      ]
     },
     "execution_count": 15,
     "metadata": {},
     "output_type": "execute_result"
    }
   ],
   "source": [
    "#otra opcion que encotramos fue:\n",
    "#(en este caso solo usamos values, no llaves)\n",
    "\n",
    "nombres_respuestas [(hijos_respuestas.index(max(hijos_respuestas))):(hijos_respuestas.index(max(hijos_respuestas)))+1]"
   ]
  },
  {
   "cell_type": "code",
   "execution_count": 16,
   "metadata": {},
   "outputs": [
    {
     "data": {
      "text/plain": [
       "'Alejandro'"
      ]
     },
     "execution_count": 16,
     "metadata": {},
     "output_type": "execute_result"
    }
   ],
   "source": [
    "#4.7)¿Y quién es la más joven?\n",
    "\n",
    "diccionario.get('nombres')[ edades_respuestas.index(min(edades_respuestas))]"
   ]
  }
 ],
 "metadata": {
  "kernelspec": {
   "display_name": "Python 3.9.13 ('base')",
   "language": "python",
   "name": "python3"
  },
  "language_info": {
   "codemirror_mode": {
    "name": "ipython",
    "version": 3
   },
   "file_extension": ".py",
   "mimetype": "text/x-python",
   "name": "python",
   "nbconvert_exporter": "python",
   "pygments_lexer": "ipython3",
   "version": "3.9.13"
  },
  "orig_nbformat": 4,
  "vscode": {
   "interpreter": {
    "hash": "a52af493819045717511545598ab2b73dabca4ca61b402315e0ef2b43666342d"
   }
  }
 },
 "nbformat": 4,
 "nbformat_minor": 2
}
