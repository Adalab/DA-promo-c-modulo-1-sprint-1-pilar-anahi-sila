{
 "cells": [
  {
   "cell_type": "code",
   "execution_count": 2,
   "metadata": {},
   "outputs": [
    {
     "name": "stdout",
     "output_type": "stream",
     "text": [
      "pepe\n",
      "juan\n",
      "toño\n"
     ]
    }
   ],
   "source": [
    "#Usando la función input, cread un programa que pregunte al usuario por el nombre de tres amig@s.\n",
    "amigo1 = input(\"dime el nombre del amigo 1:\")\n",
    "print (amigo1)\n",
    "amigo2 = input (\"dime el nombre del amigo 2:\")\n",
    "print (amigo2)\n",
    "amigo3 = input (\"dime el nombre del amigo 3:\")\n",
    "print (amigo3)\n",
    "\n",
    "\n"
   ]
  },
  {
   "cell_type": "code",
   "execution_count": 4,
   "metadata": {},
   "outputs": [
    {
     "name": "stdout",
     "output_type": "stream",
     "text": [
      "['pepe', 'juan', 'toño']\n"
     ]
    }
   ],
   "source": [
    "#Almacenad los resultados del paso anterior en una lista. 💡💡Pista Tendréis que usar métodos de los strings que aprendimos en la lección anterior.\n",
    "lista_amigos = [amigo1, amigo2, amigo3]\n",
    "print (lista_amigos)"
   ]
  },
  {
   "cell_type": "code",
   "execution_count": 5,
   "metadata": {},
   "outputs": [
    {
     "name": "stdout",
     "output_type": "stream",
     "text": [
      "157\n",
      "423\n",
      "756\n"
     ]
    }
   ],
   "source": [
    "#Usando la función input, cread un programa que ahora le pregunte al usuario por las alturas de sus amig@s. Y almacenar los resultados en una lista.\n",
    "altura_amigo1 = input(\"dime la altura del amigo 1:\")\n",
    "print (altura_amigo1)\n",
    "altura_amigo2 = input(\"dime la altura del amigo 2:\")\n",
    "print (altura_amigo2)\n",
    "altura_amigo3 = input(\"dime la altura del amigo 3:\")\n",
    "print (altura_amigo3)\n"
   ]
  },
  {
   "cell_type": "code",
   "execution_count": 6,
   "metadata": {},
   "outputs": [
    {
     "name": "stdout",
     "output_type": "stream",
     "text": [
      "['157', '423', '756']\n"
     ]
    }
   ],
   "source": [
    "lista_alturas= [altura_amigo1, altura_amigo2, altura_amigo3]\n",
    "print (lista_alturas)"
   ]
  },
  {
   "cell_type": "code",
   "execution_count": 8,
   "metadata": {},
   "outputs": [
    {
     "name": "stdout",
     "output_type": "stream",
     "text": [
      "[157.0, 423.0, 756.0]\n"
     ]
    }
   ],
   "source": [
    "lista_alturas = [float(i) for i in lista_alturas]\n",
    "print (lista_alturas)"
   ]
  },
  {
   "cell_type": "code",
   "execution_count": 15,
   "metadata": {},
   "outputs": [
    {
     "name": "stdout",
     "output_type": "stream",
     "text": [
      "[756.0, 423.0, 157.0]\n",
      "['juan', 'pepe', 'toño']\n"
     ]
    }
   ],
   "source": [
    "#Ordenad las dos listas de mayor a menor. ¿Lo podréis hacer para la lista de nombres?\n",
    "lista_ordenada_alturas = lista_alturas\n",
    "lista_ordenada_alturas.sort(reverse = True)\n",
    "print (lista_ordenada_alturas)\n",
    "\n",
    "lista_ordenada_nombres = lista_amigos\n",
    "lista_ordenada_nombres.sort()\n",
    "print(lista_ordenada_nombres)\n"
   ]
  },
  {
   "cell_type": "code",
   "execution_count": 17,
   "metadata": {},
   "outputs": [
    {
     "name": "stdout",
     "output_type": "stream",
     "text": [
      "756.0\n",
      "157.0\n"
     ]
    }
   ],
   "source": [
    "#¿Cuál es la altura máxima de todos nuestros amig@os?\n",
    "altura_maxima = max (lista_alturas)\n",
    "print (altura_maxima)\n",
    "\n",
    "#¿Y la mínima?\n",
    "altura_minima = min (lista_alturas)\n",
    "print (altura_minima)"
   ]
  },
  {
   "cell_type": "code",
   "execution_count": 35,
   "metadata": {},
   "outputs": [
    {
     "name": "stdout",
     "output_type": "stream",
     "text": [
      "([44, 55, 67, 44, 98, 29], [34, 56, 56, 78, 67, 56])\n"
     ]
    }
   ],
   "source": [
    "#Dadas las siguientes listas:\n",
    "lista1 = [44, 55, 67, 44, 98, 29]\n",
    "lista2 = [34, 56, 56, 78, 67, 56]\n",
    "lista_lista = lista1, lista2\n",
    "print (lista_lista)"
   ]
  },
  {
   "cell_type": "code",
   "execution_count": 37,
   "metadata": {},
   "outputs": [
    {
     "name": "stdout",
     "output_type": "stream",
     "text": [
      "[44, 55, 67, 44, 98, 29, 34, 56, 56, 78, 67, 56]\n"
     ]
    }
   ],
   "source": [
    "#De la lista lista_lista, ¿cuántas veces aparece el número 67?\n",
    "lista_numeros = lista1 + lista2\n",
    "print (lista_numeros)"
   ]
  },
  {
   "cell_type": "code",
   "execution_count": 38,
   "metadata": {},
   "outputs": [
    {
     "name": "stdout",
     "output_type": "stream",
     "text": [
      "0\n"
     ]
    }
   ],
   "source": [
    "#¿y en la lista lista_numeros\n",
    "print(lista_lista.count(67))"
   ]
  },
  {
   "cell_type": "code",
   "execution_count": 33,
   "metadata": {},
   "outputs": [
    {
     "name": "stdout",
     "output_type": "stream",
     "text": [
      "2\n"
     ]
    }
   ],
   "source": [
    "#Usando la lista_numeros, dadle la vuelta a la lista.\n",
    "print(lista_numeros.count(67))"
   ]
  },
  {
   "cell_type": "code",
   "execution_count": 44,
   "metadata": {},
   "outputs": [
    {
     "name": "stdout",
     "output_type": "stream",
     "text": [
      "[56, 67, 78, 56, 56, 34, 29, 98, 44, 67, 55, 44]\n"
     ]
    }
   ],
   "source": [
    "lista_numeros_reverse = lista_numeros\n",
    "lista_numeros_reverse.reverse()\n",
    "print(lista_numeros_reverse)"
   ]
  }
 ],
 "metadata": {
  "kernelspec": {
   "display_name": "Python 3",
   "language": "python",
   "name": "python3"
  },
  "language_info": {
   "codemirror_mode": {
    "name": "ipython",
    "version": 3
   },
   "file_extension": ".py",
   "mimetype": "text/x-python",
   "name": "python",
   "nbconvert_exporter": "python",
   "pygments_lexer": "ipython3",
   "version": "3.9.7"
  },
  "orig_nbformat": 4,
  "vscode": {
   "interpreter": {
    "hash": "c051a96af7564dc2e954afa8bbe1303cffa3b89daf2be210fabb8659fb5e9a61"
   }
  }
 },
 "nbformat": 4,
 "nbformat_minor": 2
}
